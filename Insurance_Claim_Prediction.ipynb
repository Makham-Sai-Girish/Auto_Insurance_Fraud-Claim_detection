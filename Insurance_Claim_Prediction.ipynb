{
 "cells": [
  {
   "cell_type": "code",
   "execution_count": 1,
   "metadata": {},
   "outputs": [],
   "source": [
    "#import necessary modules\n",
    "import pandas as pd\n",
    "import numpy as np\n",
    "import matplotlib.pyplot as plt\n",
    "import seaborn as sns\n",
    "%matplotlib inline"
   ]
  },
  {
   "cell_type": "code",
   "execution_count": 2,
   "metadata": {},
   "outputs": [],
   "source": [
    "#importing the dataset\n",
    "data=pd.read_csv('8.Insurance.csv')\n",
    "\n",
    "#Setting to display all columns\n",
    "pd.set_option('display.max_columns', None)"
   ]
  },
  {
   "cell_type": "code",
   "execution_count": 3,
   "metadata": {
    "scrolled": true
   },
   "outputs": [
    {
     "data": {
      "text/html": [
       "<div>\n",
       "<style scoped>\n",
       "    .dataframe tbody tr th:only-of-type {\n",
       "        vertical-align: middle;\n",
       "    }\n",
       "\n",
       "    .dataframe tbody tr th {\n",
       "        vertical-align: top;\n",
       "    }\n",
       "\n",
       "    .dataframe thead th {\n",
       "        text-align: right;\n",
       "    }\n",
       "</style>\n",
       "<table border=\"1\" class=\"dataframe\">\n",
       "  <thead>\n",
       "    <tr style=\"text-align: right;\">\n",
       "      <th></th>\n",
       "      <th>months_as_customer</th>\n",
       "      <th>age</th>\n",
       "      <th>policy_number</th>\n",
       "      <th>policy_bind_date</th>\n",
       "      <th>policy_state</th>\n",
       "      <th>policy_csl</th>\n",
       "      <th>policy_deductable</th>\n",
       "      <th>policy_annual_premium</th>\n",
       "      <th>umbrella_limit</th>\n",
       "      <th>insured_zip</th>\n",
       "      <th>insured_sex</th>\n",
       "      <th>insured_education_level</th>\n",
       "      <th>insured_occupation</th>\n",
       "      <th>insured_hobbies</th>\n",
       "      <th>insured_relationship</th>\n",
       "      <th>capital-gains</th>\n",
       "      <th>capital-loss</th>\n",
       "      <th>incident_date</th>\n",
       "      <th>incident_type</th>\n",
       "      <th>collision_type</th>\n",
       "      <th>incident_severity</th>\n",
       "      <th>authorities_contacted</th>\n",
       "      <th>incident_state</th>\n",
       "      <th>incident_city</th>\n",
       "      <th>incident_location</th>\n",
       "      <th>incident_hour_of_the_day</th>\n",
       "      <th>number_of_vehicles_involved</th>\n",
       "      <th>property_damage</th>\n",
       "      <th>bodily_injuries</th>\n",
       "      <th>witnesses</th>\n",
       "      <th>police_report_available</th>\n",
       "      <th>total_claim_amount</th>\n",
       "      <th>injury_claim</th>\n",
       "      <th>property_claim</th>\n",
       "      <th>vehicle_claim</th>\n",
       "      <th>auto_make</th>\n",
       "      <th>auto_model</th>\n",
       "      <th>auto_year</th>\n",
       "      <th>fraud_reported</th>\n",
       "      <th>_c39</th>\n",
       "    </tr>\n",
       "  </thead>\n",
       "  <tbody>\n",
       "    <tr>\n",
       "      <th>0</th>\n",
       "      <td>328</td>\n",
       "      <td>48</td>\n",
       "      <td>521585</td>\n",
       "      <td>17-10-2014</td>\n",
       "      <td>OH</td>\n",
       "      <td>250/500</td>\n",
       "      <td>1000</td>\n",
       "      <td>1406.91</td>\n",
       "      <td>0</td>\n",
       "      <td>466132</td>\n",
       "      <td>MALE</td>\n",
       "      <td>MD</td>\n",
       "      <td>craft-repair</td>\n",
       "      <td>sleeping</td>\n",
       "      <td>husband</td>\n",
       "      <td>53300</td>\n",
       "      <td>0</td>\n",
       "      <td>25-01-2015</td>\n",
       "      <td>Single Vehicle Collision</td>\n",
       "      <td>Side Collision</td>\n",
       "      <td>Major Damage</td>\n",
       "      <td>Police</td>\n",
       "      <td>SC</td>\n",
       "      <td>Columbus</td>\n",
       "      <td>9935 4th Drive</td>\n",
       "      <td>5</td>\n",
       "      <td>1</td>\n",
       "      <td>YES</td>\n",
       "      <td>1</td>\n",
       "      <td>2</td>\n",
       "      <td>YES</td>\n",
       "      <td>71610</td>\n",
       "      <td>6510</td>\n",
       "      <td>13020</td>\n",
       "      <td>52080</td>\n",
       "      <td>Saab</td>\n",
       "      <td>92x</td>\n",
       "      <td>2004</td>\n",
       "      <td>Y</td>\n",
       "      <td>NaN</td>\n",
       "    </tr>\n",
       "    <tr>\n",
       "      <th>1</th>\n",
       "      <td>228</td>\n",
       "      <td>42</td>\n",
       "      <td>342868</td>\n",
       "      <td>27-06-2006</td>\n",
       "      <td>IN</td>\n",
       "      <td>250/500</td>\n",
       "      <td>2000</td>\n",
       "      <td>1197.22</td>\n",
       "      <td>5000000</td>\n",
       "      <td>468176</td>\n",
       "      <td>MALE</td>\n",
       "      <td>MD</td>\n",
       "      <td>machine-op-inspct</td>\n",
       "      <td>reading</td>\n",
       "      <td>other-relative</td>\n",
       "      <td>0</td>\n",
       "      <td>0</td>\n",
       "      <td>21-01-2015</td>\n",
       "      <td>Vehicle Theft</td>\n",
       "      <td>?</td>\n",
       "      <td>Minor Damage</td>\n",
       "      <td>Police</td>\n",
       "      <td>VA</td>\n",
       "      <td>Riverwood</td>\n",
       "      <td>6608 MLK Hwy</td>\n",
       "      <td>8</td>\n",
       "      <td>1</td>\n",
       "      <td>?</td>\n",
       "      <td>0</td>\n",
       "      <td>0</td>\n",
       "      <td>?</td>\n",
       "      <td>5070</td>\n",
       "      <td>780</td>\n",
       "      <td>780</td>\n",
       "      <td>3510</td>\n",
       "      <td>Mercedes</td>\n",
       "      <td>E400</td>\n",
       "      <td>2007</td>\n",
       "      <td>Y</td>\n",
       "      <td>NaN</td>\n",
       "    </tr>\n",
       "    <tr>\n",
       "      <th>2</th>\n",
       "      <td>134</td>\n",
       "      <td>29</td>\n",
       "      <td>687698</td>\n",
       "      <td>06-09-2000</td>\n",
       "      <td>OH</td>\n",
       "      <td>100/300</td>\n",
       "      <td>2000</td>\n",
       "      <td>1413.14</td>\n",
       "      <td>5000000</td>\n",
       "      <td>430632</td>\n",
       "      <td>FEMALE</td>\n",
       "      <td>PhD</td>\n",
       "      <td>sales</td>\n",
       "      <td>board-games</td>\n",
       "      <td>own-child</td>\n",
       "      <td>35100</td>\n",
       "      <td>0</td>\n",
       "      <td>22-02-2015</td>\n",
       "      <td>Multi-vehicle Collision</td>\n",
       "      <td>Rear Collision</td>\n",
       "      <td>Minor Damage</td>\n",
       "      <td>Police</td>\n",
       "      <td>NY</td>\n",
       "      <td>Columbus</td>\n",
       "      <td>7121 Francis Lane</td>\n",
       "      <td>7</td>\n",
       "      <td>3</td>\n",
       "      <td>NO</td>\n",
       "      <td>2</td>\n",
       "      <td>3</td>\n",
       "      <td>NO</td>\n",
       "      <td>34650</td>\n",
       "      <td>7700</td>\n",
       "      <td>3850</td>\n",
       "      <td>23100</td>\n",
       "      <td>Dodge</td>\n",
       "      <td>RAM</td>\n",
       "      <td>2007</td>\n",
       "      <td>N</td>\n",
       "      <td>NaN</td>\n",
       "    </tr>\n",
       "    <tr>\n",
       "      <th>3</th>\n",
       "      <td>256</td>\n",
       "      <td>41</td>\n",
       "      <td>227811</td>\n",
       "      <td>25-05-1990</td>\n",
       "      <td>IL</td>\n",
       "      <td>250/500</td>\n",
       "      <td>2000</td>\n",
       "      <td>1415.74</td>\n",
       "      <td>6000000</td>\n",
       "      <td>608117</td>\n",
       "      <td>FEMALE</td>\n",
       "      <td>PhD</td>\n",
       "      <td>armed-forces</td>\n",
       "      <td>board-games</td>\n",
       "      <td>unmarried</td>\n",
       "      <td>48900</td>\n",
       "      <td>-62400</td>\n",
       "      <td>10-01-2015</td>\n",
       "      <td>Single Vehicle Collision</td>\n",
       "      <td>Front Collision</td>\n",
       "      <td>Major Damage</td>\n",
       "      <td>Police</td>\n",
       "      <td>OH</td>\n",
       "      <td>Arlington</td>\n",
       "      <td>6956 Maple Drive</td>\n",
       "      <td>5</td>\n",
       "      <td>1</td>\n",
       "      <td>?</td>\n",
       "      <td>1</td>\n",
       "      <td>2</td>\n",
       "      <td>NO</td>\n",
       "      <td>63400</td>\n",
       "      <td>6340</td>\n",
       "      <td>6340</td>\n",
       "      <td>50720</td>\n",
       "      <td>Chevrolet</td>\n",
       "      <td>Tahoe</td>\n",
       "      <td>2014</td>\n",
       "      <td>Y</td>\n",
       "      <td>NaN</td>\n",
       "    </tr>\n",
       "    <tr>\n",
       "      <th>4</th>\n",
       "      <td>228</td>\n",
       "      <td>44</td>\n",
       "      <td>367455</td>\n",
       "      <td>06-06-2014</td>\n",
       "      <td>IL</td>\n",
       "      <td>500/1000</td>\n",
       "      <td>1000</td>\n",
       "      <td>1583.91</td>\n",
       "      <td>6000000</td>\n",
       "      <td>610706</td>\n",
       "      <td>MALE</td>\n",
       "      <td>Associate</td>\n",
       "      <td>sales</td>\n",
       "      <td>board-games</td>\n",
       "      <td>unmarried</td>\n",
       "      <td>66000</td>\n",
       "      <td>-46000</td>\n",
       "      <td>17-02-2015</td>\n",
       "      <td>Vehicle Theft</td>\n",
       "      <td>?</td>\n",
       "      <td>Minor Damage</td>\n",
       "      <td>None</td>\n",
       "      <td>NY</td>\n",
       "      <td>Arlington</td>\n",
       "      <td>3041 3rd Ave</td>\n",
       "      <td>20</td>\n",
       "      <td>1</td>\n",
       "      <td>NO</td>\n",
       "      <td>0</td>\n",
       "      <td>1</td>\n",
       "      <td>NO</td>\n",
       "      <td>6500</td>\n",
       "      <td>1300</td>\n",
       "      <td>650</td>\n",
       "      <td>4550</td>\n",
       "      <td>Accura</td>\n",
       "      <td>RSX</td>\n",
       "      <td>2009</td>\n",
       "      <td>N</td>\n",
       "      <td>NaN</td>\n",
       "    </tr>\n",
       "  </tbody>\n",
       "</table>\n",
       "</div>"
      ],
      "text/plain": [
       "   months_as_customer  age  policy_number policy_bind_date policy_state  \\\n",
       "0                 328   48         521585       17-10-2014           OH   \n",
       "1                 228   42         342868       27-06-2006           IN   \n",
       "2                 134   29         687698       06-09-2000           OH   \n",
       "3                 256   41         227811       25-05-1990           IL   \n",
       "4                 228   44         367455       06-06-2014           IL   \n",
       "\n",
       "  policy_csl  policy_deductable  policy_annual_premium  umbrella_limit  \\\n",
       "0    250/500               1000                1406.91               0   \n",
       "1    250/500               2000                1197.22         5000000   \n",
       "2    100/300               2000                1413.14         5000000   \n",
       "3    250/500               2000                1415.74         6000000   \n",
       "4   500/1000               1000                1583.91         6000000   \n",
       "\n",
       "   insured_zip insured_sex insured_education_level insured_occupation  \\\n",
       "0       466132        MALE                      MD       craft-repair   \n",
       "1       468176        MALE                      MD  machine-op-inspct   \n",
       "2       430632      FEMALE                     PhD              sales   \n",
       "3       608117      FEMALE                     PhD       armed-forces   \n",
       "4       610706        MALE               Associate              sales   \n",
       "\n",
       "  insured_hobbies insured_relationship  capital-gains  capital-loss  \\\n",
       "0        sleeping              husband          53300             0   \n",
       "1         reading       other-relative              0             0   \n",
       "2     board-games            own-child          35100             0   \n",
       "3     board-games            unmarried          48900        -62400   \n",
       "4     board-games            unmarried          66000        -46000   \n",
       "\n",
       "  incident_date             incident_type   collision_type incident_severity  \\\n",
       "0    25-01-2015  Single Vehicle Collision   Side Collision      Major Damage   \n",
       "1    21-01-2015             Vehicle Theft                ?      Minor Damage   \n",
       "2    22-02-2015   Multi-vehicle Collision   Rear Collision      Minor Damage   \n",
       "3    10-01-2015  Single Vehicle Collision  Front Collision      Major Damage   \n",
       "4    17-02-2015             Vehicle Theft                ?      Minor Damage   \n",
       "\n",
       "  authorities_contacted incident_state incident_city  incident_location  \\\n",
       "0                Police             SC      Columbus     9935 4th Drive   \n",
       "1                Police             VA     Riverwood       6608 MLK Hwy   \n",
       "2                Police             NY      Columbus  7121 Francis Lane   \n",
       "3                Police             OH     Arlington   6956 Maple Drive   \n",
       "4                  None             NY     Arlington       3041 3rd Ave   \n",
       "\n",
       "   incident_hour_of_the_day  number_of_vehicles_involved property_damage  \\\n",
       "0                         5                            1             YES   \n",
       "1                         8                            1               ?   \n",
       "2                         7                            3              NO   \n",
       "3                         5                            1               ?   \n",
       "4                        20                            1              NO   \n",
       "\n",
       "   bodily_injuries  witnesses police_report_available  total_claim_amount  \\\n",
       "0                1          2                     YES               71610   \n",
       "1                0          0                       ?                5070   \n",
       "2                2          3                      NO               34650   \n",
       "3                1          2                      NO               63400   \n",
       "4                0          1                      NO                6500   \n",
       "\n",
       "   injury_claim  property_claim  vehicle_claim  auto_make auto_model  \\\n",
       "0          6510           13020          52080       Saab        92x   \n",
       "1           780             780           3510   Mercedes       E400   \n",
       "2          7700            3850          23100      Dodge        RAM   \n",
       "3          6340            6340          50720  Chevrolet      Tahoe   \n",
       "4          1300             650           4550     Accura        RSX   \n",
       "\n",
       "   auto_year fraud_reported  _c39  \n",
       "0       2004              Y   NaN  \n",
       "1       2007              Y   NaN  \n",
       "2       2007              N   NaN  \n",
       "3       2014              Y   NaN  \n",
       "4       2009              N   NaN  "
      ]
     },
     "execution_count": 3,
     "metadata": {},
     "output_type": "execute_result"
    }
   ],
   "source": [
    "#see the data\n",
    "data.head()"
   ]
  },
  {
   "cell_type": "code",
   "execution_count": 4,
   "metadata": {
    "scrolled": true
   },
   "outputs": [
    {
     "data": {
      "text/plain": [
       "(1000, 40)"
      ]
     },
     "execution_count": 4,
     "metadata": {},
     "output_type": "execute_result"
    }
   ],
   "source": [
    "data.shape"
   ]
  },
  {
   "cell_type": "code",
   "execution_count": 5,
   "metadata": {},
   "outputs": [
    {
     "data": {
      "text/plain": [
       "40000"
      ]
     },
     "execution_count": 5,
     "metadata": {},
     "output_type": "execute_result"
    }
   ],
   "source": [
    "data.size"
   ]
  },
  {
   "cell_type": "code",
   "execution_count": 6,
   "metadata": {
    "scrolled": true
   },
   "outputs": [
    {
     "name": "stdout",
     "output_type": "stream",
     "text": [
      "<class 'pandas.core.frame.DataFrame'>\n",
      "RangeIndex: 1000 entries, 0 to 999\n",
      "Data columns (total 40 columns):\n",
      " #   Column                       Non-Null Count  Dtype  \n",
      "---  ------                       --------------  -----  \n",
      " 0   months_as_customer           1000 non-null   int64  \n",
      " 1   age                          1000 non-null   int64  \n",
      " 2   policy_number                1000 non-null   int64  \n",
      " 3   policy_bind_date             1000 non-null   object \n",
      " 4   policy_state                 1000 non-null   object \n",
      " 5   policy_csl                   1000 non-null   object \n",
      " 6   policy_deductable            1000 non-null   int64  \n",
      " 7   policy_annual_premium        1000 non-null   float64\n",
      " 8   umbrella_limit               1000 non-null   int64  \n",
      " 9   insured_zip                  1000 non-null   int64  \n",
      " 10  insured_sex                  1000 non-null   object \n",
      " 11  insured_education_level      1000 non-null   object \n",
      " 12  insured_occupation           1000 non-null   object \n",
      " 13  insured_hobbies              1000 non-null   object \n",
      " 14  insured_relationship         1000 non-null   object \n",
      " 15  capital-gains                1000 non-null   int64  \n",
      " 16  capital-loss                 1000 non-null   int64  \n",
      " 17  incident_date                1000 non-null   object \n",
      " 18  incident_type                1000 non-null   object \n",
      " 19  collision_type               1000 non-null   object \n",
      " 20  incident_severity            1000 non-null   object \n",
      " 21  authorities_contacted        1000 non-null   object \n",
      " 22  incident_state               1000 non-null   object \n",
      " 23  incident_city                1000 non-null   object \n",
      " 24  incident_location            1000 non-null   object \n",
      " 25  incident_hour_of_the_day     1000 non-null   int64  \n",
      " 26  number_of_vehicles_involved  1000 non-null   int64  \n",
      " 27  property_damage              1000 non-null   object \n",
      " 28  bodily_injuries              1000 non-null   int64  \n",
      " 29  witnesses                    1000 non-null   int64  \n",
      " 30  police_report_available      1000 non-null   object \n",
      " 31  total_claim_amount           1000 non-null   int64  \n",
      " 32  injury_claim                 1000 non-null   int64  \n",
      " 33  property_claim               1000 non-null   int64  \n",
      " 34  vehicle_claim                1000 non-null   int64  \n",
      " 35  auto_make                    1000 non-null   object \n",
      " 36  auto_model                   1000 non-null   object \n",
      " 37  auto_year                    1000 non-null   int64  \n",
      " 38  fraud_reported               1000 non-null   object \n",
      " 39  _c39                         0 non-null      float64\n",
      "dtypes: float64(2), int64(17), object(21)\n",
      "memory usage: 312.6+ KB\n"
     ]
    }
   ],
   "source": [
    "data.info()"
   ]
  },
  {
   "cell_type": "code",
   "execution_count": 7,
   "metadata": {},
   "outputs": [],
   "source": [
    "#Dropping the columns\n",
    "dfc=data.drop(['policy_number','insured_zip','auto_make','auto_model','auto_year','_c39','policy_csl'],axis=1)"
   ]
  },
  {
   "cell_type": "code",
   "execution_count": 8,
   "metadata": {
    "scrolled": true
   },
   "outputs": [
    {
     "data": {
      "text/plain": [
       "Index(['months_as_customer', 'age', 'policy_bind_date', 'policy_state',\n",
       "       'policy_deductable', 'policy_annual_premium', 'umbrella_limit',\n",
       "       'insured_sex', 'insured_education_level', 'insured_occupation',\n",
       "       'insured_hobbies', 'insured_relationship', 'capital-gains',\n",
       "       'capital-loss', 'incident_date', 'incident_type', 'collision_type',\n",
       "       'incident_severity', 'authorities_contacted', 'incident_state',\n",
       "       'incident_city', 'incident_location', 'incident_hour_of_the_day',\n",
       "       'number_of_vehicles_involved', 'property_damage', 'bodily_injuries',\n",
       "       'witnesses', 'police_report_available', 'total_claim_amount',\n",
       "       'injury_claim', 'property_claim', 'vehicle_claim', 'fraud_reported'],\n",
       "      dtype='object')"
      ]
     },
     "execution_count": 8,
     "metadata": {},
     "output_type": "execute_result"
    }
   ],
   "source": [
    "dfc.columns"
   ]
  },
  {
   "cell_type": "code",
   "execution_count": 9,
   "metadata": {
    "scrolled": true
   },
   "outputs": [
    {
     "data": {
      "text/plain": [
       "<matplotlib.axes._subplots.AxesSubplot at 0x22b4f5eee20>"
      ]
     },
     "execution_count": 9,
     "metadata": {},
     "output_type": "execute_result"
    },
    {
     "data": {
      "image/png": "[encoded data removed]",
      "text/plain": [
       "<Figure size 432x288 with 2 Axes>"
      ]
     },
     "metadata": {
      "needs_background": "light"
     },
     "output_type": "display_data"
    }
   ],
   "source": [
    "#Visualising null values\n",
    "sns.heatmap(dfc.isnull())"
   ]
  },
  {
   "cell_type": "code",
   "execution_count": 108,
   "metadata": {},
   "outputs": [
    {
     "name": "stderr",
     "output_type": "stream",
     "text": [
      "C:\\Users\\Lucky Girish\\anaconda3\\lib\\site-packages\\seaborn\\_decorators.py:36: FutureWarning: Pass the following variable as a keyword arg: x. From version 0.12, the only valid positional argument will be `data`, and passing other arguments without an explicit keyword will result in an error or misinterpretation.\n",
      "  warnings.warn(\n"
     ]
    },
    {
     "data": {
      "text/plain": [
       "<matplotlib.axes._subplots.AxesSubplot at 0x22b55456a90>"
      ]
     },
     "execution_count": 108,
     "metadata": {},
     "output_type": "execute_result"
    },
    {
     "data": {
      "image/png": "[encoded data removed]",
      "text/plain": [
       "<Figure size 432x288 with 1 Axes>"
      ]
     },
     "metadata": {
      "needs_background": "light"
     },
     "output_type": "display_data"
    }
   ],
   "source": [
    "sns.countplot(data['fraud_reported'],hue=data['insured_sex'])"
   ]
  },
  {
   "cell_type": "code",
   "execution_count": 10,
   "metadata": {},
   "outputs": [
    {
     "data": {
      "text/plain": [
       "4"
      ]
     },
     "execution_count": 10,
     "metadata": {},
     "output_type": "execute_result"
    }
   ],
   "source": [
    "#Collision_type\n",
    "dfc['collision_type'].nunique()"
   ]
  },
  {
   "cell_type": "code",
   "execution_count": 11,
   "metadata": {
    "scrolled": false
   },
   "outputs": [
    {
     "data": {
      "text/plain": [
       "Rear Collision     292\n",
       "Side Collision     276\n",
       "Front Collision    254\n",
       "?                  178\n",
       "Name: collision_type, dtype: int64"
      ]
     },
     "execution_count": 11,
     "metadata": {},
     "output_type": "execute_result"
    }
   ],
   "source": [
    "dfc['collision_type'].value_counts()"
   ]
  },
  {
   "cell_type": "code",
   "execution_count": 12,
   "metadata": {
    "scrolled": false
   },
   "outputs": [
    {
     "name": "stderr",
     "output_type": "stream",
     "text": [
      "C:\\Users\\Lucky Girish\\anaconda3\\lib\\site-packages\\seaborn\\_decorators.py:36: FutureWarning: Pass the following variable as a keyword arg: x. From version 0.12, the only valid positional argument will be `data`, and passing other arguments without an explicit keyword will result in an error or misinterpretation.\n",
      "  warnings.warn(\n"
     ]
    },
    {
     "data": {
      "text/plain": [
       "<matplotlib.axes._subplots.AxesSubplot at 0x22b4ffae670>"
      ]
     },
     "execution_count": 12,
     "metadata": {},
     "output_type": "execute_result"
    },
    {
     "data": {
      "image/png": "[encoded data removed]",
      "text/plain": [
       "<Figure size 432x288 with 1 Axes>"
      ]
     },
     "metadata": {
      "needs_background": "light"
     },
     "output_type": "display_data"
    }
   ],
   "source": [
    "sns.countplot(dfc['collision_type'],hue=dfc['fraud_reported'])"
   ]
  },
  {
   "cell_type": "markdown",
   "metadata": {},
   "source": [
    "finding the indexes where '?' is present, and new data frame to understand"
   ]
  },
  {
   "cell_type": "code",
   "execution_count": 13,
   "metadata": {
    "scrolled": true
   },
   "outputs": [
    {
     "data": {
      "text/html": [
       "<div>\n",
       "<style scoped>\n",
       "    .dataframe tbody tr th:only-of-type {\n",
       "        vertical-align: middle;\n",
       "    }\n",
       "\n",
       "    .dataframe tbody tr th {\n",
       "        vertical-align: top;\n",
       "    }\n",
       "\n",
       "    .dataframe thead th {\n",
       "        text-align: right;\n",
       "    }\n",
       "</style>\n",
       "<table border=\"1\" class=\"dataframe\">\n",
       "  <thead>\n",
       "    <tr style=\"text-align: right;\">\n",
       "      <th></th>\n",
       "      <th>insured_sex</th>\n",
       "      <th>collision_type</th>\n",
       "      <th>fraud_reported</th>\n",
       "    </tr>\n",
       "  </thead>\n",
       "  <tbody>\n",
       "    <tr>\n",
       "      <th>1</th>\n",
       "      <td>MALE</td>\n",
       "      <td>?</td>\n",
       "      <td>Y</td>\n",
       "    </tr>\n",
       "    <tr>\n",
       "      <th>4</th>\n",
       "      <td>MALE</td>\n",
       "      <td>?</td>\n",
       "      <td>N</td>\n",
       "    </tr>\n",
       "    <tr>\n",
       "      <th>13</th>\n",
       "      <td>FEMALE</td>\n",
       "      <td>?</td>\n",
       "      <td>N</td>\n",
       "    </tr>\n",
       "    <tr>\n",
       "      <th>26</th>\n",
       "      <td>MALE</td>\n",
       "      <td>?</td>\n",
       "      <td>N</td>\n",
       "    </tr>\n",
       "    <tr>\n",
       "      <th>27</th>\n",
       "      <td>MALE</td>\n",
       "      <td>?</td>\n",
       "      <td>Y</td>\n",
       "    </tr>\n",
       "    <tr>\n",
       "      <th>...</th>\n",
       "      <td>...</td>\n",
       "      <td>...</td>\n",
       "      <td>...</td>\n",
       "    </tr>\n",
       "    <tr>\n",
       "      <th>964</th>\n",
       "      <td>FEMALE</td>\n",
       "      <td>?</td>\n",
       "      <td>Y</td>\n",
       "    </tr>\n",
       "    <tr>\n",
       "      <th>969</th>\n",
       "      <td>MALE</td>\n",
       "      <td>?</td>\n",
       "      <td>N</td>\n",
       "    </tr>\n",
       "    <tr>\n",
       "      <th>983</th>\n",
       "      <td>FEMALE</td>\n",
       "      <td>?</td>\n",
       "      <td>N</td>\n",
       "    </tr>\n",
       "    <tr>\n",
       "      <th>994</th>\n",
       "      <td>MALE</td>\n",
       "      <td>?</td>\n",
       "      <td>N</td>\n",
       "    </tr>\n",
       "    <tr>\n",
       "      <th>999</th>\n",
       "      <td>FEMALE</td>\n",
       "      <td>?</td>\n",
       "      <td>N</td>\n",
       "    </tr>\n",
       "  </tbody>\n",
       "</table>\n",
       "<p>178 rows × 3 columns</p>\n",
       "</div>"
      ],
      "text/plain": [
       "    insured_sex collision_type fraud_reported\n",
       "1          MALE              ?              Y\n",
       "4          MALE              ?              N\n",
       "13       FEMALE              ?              N\n",
       "26         MALE              ?              N\n",
       "27         MALE              ?              Y\n",
       "..          ...            ...            ...\n",
       "964      FEMALE              ?              Y\n",
       "969        MALE              ?              N\n",
       "983      FEMALE              ?              N\n",
       "994        MALE              ?              N\n",
       "999      FEMALE              ?              N\n",
       "\n",
       "[178 rows x 3 columns]"
      ]
     },
     "execution_count": 13,
     "metadata": {},
     "output_type": "execute_result"
    }
   ],
   "source": [
    "repl=dfc[dfc['collision_type']=='?'].index.to_list()\n",
    "repld=dfc.iloc[repl,[7,16,-1]]\n",
    "repld"
   ]
  },
  {
   "cell_type": "code",
   "execution_count": 14,
   "metadata": {
    "scrolled": false
   },
   "outputs": [
    {
     "name": "stderr",
     "output_type": "stream",
     "text": [
      "C:\\Users\\Lucky Girish\\anaconda3\\lib\\site-packages\\seaborn\\_decorators.py:36: FutureWarning: Pass the following variable as a keyword arg: x. From version 0.12, the only valid positional argument will be `data`, and passing other arguments without an explicit keyword will result in an error or misinterpretation.\n",
      "  warnings.warn(\n"
     ]
    },
    {
     "data": {
      "text/plain": [
       "<matplotlib.axes._subplots.AxesSubplot at 0x22b500494f0>"
      ]
     },
     "execution_count": 14,
     "metadata": {},
     "output_type": "execute_result"
    },
    {
     "data": {
      "image/png": "[encoded data removed]",
      "text/plain": [
       "<Figure size 432x288 with 1 Axes>"
      ]
     },
     "metadata": {
      "needs_background": "light"
     },
     "output_type": "display_data"
    }
   ],
   "source": [
    "sns.countplot(repld['insured_sex'],hue=repld['fraud_reported'])"
   ]
  },
  {
   "cell_type": "markdown",
   "metadata": {},
   "source": [
    "we can see , in this count of female and male commited frauds is lmost sme "
   ]
  },
  {
   "cell_type": "code",
   "execution_count": 15,
   "metadata": {
    "scrolled": true
   },
   "outputs": [
    {
     "data": {
      "text/plain": [
       "N    162\n",
       "Y     16\n",
       "Name: fraud_reported, dtype: int64"
      ]
     },
     "execution_count": 15,
     "metadata": {},
     "output_type": "execute_result"
    }
   ],
   "source": [
    "repld['fraud_reported'].value_counts()"
   ]
  },
  {
   "cell_type": "markdown",
   "metadata": {},
   "source": [
    "10% of these commited fraud."
   ]
  },
  {
   "cell_type": "code",
   "execution_count": 16,
   "metadata": {},
   "outputs": [],
   "source": [
    "dfc['collision_type']=dfc['collision_type'].replace('?','Rear Collision')"
   ]
  },
  {
   "cell_type": "code",
   "execution_count": 17,
   "metadata": {
    "scrolled": false
   },
   "outputs": [
    {
     "data": {
      "text/plain": [
       "<seaborn.axisgrid.FacetGrid at 0x22b4fe13070>"
      ]
     },
     "execution_count": 17,
     "metadata": {},
     "output_type": "execute_result"
    },
    {
     "data": {
      "image/png": "[encoded data removed]",
      "text/plain": [
       "<Figure size 802.375x360 with 2 Axes>"
      ]
     },
     "metadata": {
      "needs_background": "light"
     },
     "output_type": "display_data"
    }
   ],
   "source": [
    "sns.catplot(x='collision_type', hue='fraud_reported',col='insured_sex',kind=\"count\",data=dfc)"
   ]
  },
  {
   "cell_type": "code",
   "execution_count": 18,
   "metadata": {},
   "outputs": [],
   "source": [
    "#Defining a custom function to check and plot graphs\n",
    "def check(column):\n",
    "    t=dfc[column].dtype\n",
    "    plt.figure(figsize=(8,8))\n",
    "    if t=='object':\n",
    "        sns.countplot(y=column,hue='fraud_reported',data=dfc)\n",
    "        print(f'no. of unique values in {column} is:',dfc[column].nunique())\n",
    "        print(f'unique values in {column} is:',dfc[column].value_counts())\n",
    "    else:\n",
    "        print(f'Brief of {column}:',dfc[column].describe())\n",
    "        sns.boxplot(y=column,x='fraud_reported',hue='insured_sex',data=dfc,palette=\"Set3\")\n",
    "        print('skewness:',dfc[column].skew())\n",
    "        print(f'unique values count in {column}:',dfc[column].nunique())\n",
    "    return"
   ]
  },
  {
   "cell_type": "code",
   "execution_count": 19,
   "metadata": {
    "scrolled": false
   },
   "outputs": [
    {
     "name": "stdout",
     "output_type": "stream",
     "text": [
      "no. of unique values in insured_hobbies is: 20\n",
      "unique values in insured_hobbies is: reading           64\n",
      "paintball         57\n",
      "exercise          57\n",
      "bungie-jumping    56\n",
      "golf              55\n",
      "camping           55\n",
      "movies            55\n",
      "kayaking          54\n",
      "yachting          53\n",
      "hiking            52\n",
      "video-games       50\n",
      "skydiving         49\n",
      "base-jumping      49\n",
      "board-games       48\n",
      "polo              47\n",
      "chess             46\n",
      "dancing           43\n",
      "sleeping          41\n",
      "cross-fit         35\n",
      "basketball        34\n",
      "Name: insured_hobbies, dtype: int64\n"
     ]
    },
    {
     "data": {
      "image/png": "[encoded data removed]",
      "text/plain": [
       "<Figure size 576x576 with 1 Axes>"
      ]
     },
     "metadata": {
      "needs_background": "light"
     },
     "output_type": "display_data"
    }
   ],
   "source": [
    "check('insured_hobbies')"
   ]
  },
  {
   "cell_type": "markdown",
   "metadata": {},
   "source": [
    "people with hobby of chess, cross-fit ...made more frauds."
   ]
  },
  {
   "cell_type": "code",
   "execution_count": 20,
   "metadata": {},
   "outputs": [
    {
     "name": "stdout",
     "output_type": "stream",
     "text": [
      "Brief of age: count    1000.000000\n",
      "mean       38.948000\n",
      "std         9.140287\n",
      "min        19.000000\n",
      "25%        32.000000\n",
      "50%        38.000000\n",
      "75%        44.000000\n",
      "max        64.000000\n",
      "Name: age, dtype: float64\n",
      "skewness: 0.47898804709224163\n",
      "unique values count in age: 46\n"
     ]
    },
    {
     "data": {
      "image/png": "[encoded data removed]",
      "text/plain": [
       "<Figure size 576x576 with 1 Axes>"
      ]
     },
     "metadata": {
      "needs_background": "light"
     },
     "output_type": "display_data"
    }
   ],
   "source": [
    "check('age')"
   ]
  },
  {
   "cell_type": "code",
   "execution_count": 21,
   "metadata": {},
   "outputs": [
    {
     "name": "stdout",
     "output_type": "stream",
     "text": [
      "Brief of months_as_customer: count    1000.000000\n",
      "mean      203.954000\n",
      "std       115.113174\n",
      "min         0.000000\n",
      "25%       115.750000\n",
      "50%       199.500000\n",
      "75%       276.250000\n",
      "max       479.000000\n",
      "Name: months_as_customer, dtype: float64\n",
      "skewness: 0.3621768477780205\n",
      "unique values count in months_as_customer: 391\n"
     ]
    },
    {
     "data": {
      "image/png": "[encoded data removed]",
      "text/plain": [
       "<Figure size 576x576 with 1 Axes>"
      ]
     },
     "metadata": {
      "needs_background": "light"
     },
     "output_type": "display_data"
    }
   ],
   "source": [
    "check('months_as_customer')"
   ]
  },
  {
   "cell_type": "markdown",
   "metadata": {},
   "source": [
    "customers done fraud: \n",
    "    female : From 0 month of being customer\n",
    "             75% of female clients who done fraud are approx less than 280 months \n",
    "    Male: 75% of male customers done fraud are less than 290 months as customer"
   ]
  },
  {
   "cell_type": "code",
   "execution_count": 22,
   "metadata": {},
   "outputs": [
    {
     "name": "stderr",
     "output_type": "stream",
     "text": [
      "C:\\Users\\Lucky Girish\\anaconda3\\lib\\site-packages\\seaborn\\_decorators.py:36: FutureWarning: Pass the following variable as a keyword arg: x. From version 0.12, the only valid positional argument will be `data`, and passing other arguments without an explicit keyword will result in an error or misinterpretation.\n",
      "  warnings.warn(\n"
     ]
    },
    {
     "data": {
      "text/plain": [
       "<matplotlib.axes._subplots.AxesSubplot at 0x22b505005e0>"
      ]
     },
     "execution_count": 22,
     "metadata": {},
     "output_type": "execute_result"
    },
    {
     "data": {
      "image/png": "[encoded data removed]",
      "text/plain": [
       "<Figure size 432x288 with 1 Axes>"
      ]
     },
     "metadata": {
      "needs_background": "light"
     },
     "output_type": "display_data"
    }
   ],
   "source": [
    "sns.countplot(dfc['number_of_vehicles_involved'])"
   ]
  },
  {
   "cell_type": "code",
   "execution_count": 23,
   "metadata": {},
   "outputs": [
    {
     "name": "stdout",
     "output_type": "stream",
     "text": [
      "no. of unique values in incident_severity is: 4\n",
      "unique values in incident_severity is: Minor Damage      354\n",
      "Total Loss        280\n",
      "Major Damage      276\n",
      "Trivial Damage     90\n",
      "Name: incident_severity, dtype: int64\n"
     ]
    },
    {
     "data": {
      "image/png": "[encoded data removed]",
      "text/plain": [
       "<Figure size 576x576 with 1 Axes>"
      ]
     },
     "metadata": {
      "needs_background": "light"
     },
     "output_type": "display_data"
    }
   ],
   "source": [
    "check('incident_severity')"
   ]
  },
  {
   "cell_type": "code",
   "execution_count": 24,
   "metadata": {},
   "outputs": [
    {
     "name": "stdout",
     "output_type": "stream",
     "text": [
      "no. of unique values in incident_city is: 7\n",
      "unique values in incident_city is: Springfield    157\n",
      "Arlington      152\n",
      "Columbus       149\n",
      "Northbend      145\n",
      "Hillsdale      141\n",
      "Riverwood      134\n",
      "Northbrook     122\n",
      "Name: incident_city, dtype: int64\n"
     ]
    },
    {
     "data": {
      "image/png": "[encoded data removed]",
      "text/plain": [
       "<Figure size 576x576 with 1 Axes>"
      ]
     },
     "metadata": {
      "needs_background": "light"
     },
     "output_type": "display_data"
    }
   ],
   "source": [
    "check('incident_city')"
   ]
  },
  {
   "cell_type": "code",
   "execution_count": 25,
   "metadata": {},
   "outputs": [
    {
     "name": "stdout",
     "output_type": "stream",
     "text": [
      "no. of unique values in incident_type is: 4\n",
      "unique values in incident_type is: Multi-vehicle Collision     419\n",
      "Single Vehicle Collision    403\n",
      "Vehicle Theft                94\n",
      "Parked Car                   84\n",
      "Name: incident_type, dtype: int64\n"
     ]
    },
    {
     "data": {
      "image/png": "[encoded data removed]",
      "text/plain": [
       "<Figure size 576x576 with 1 Axes>"
      ]
     },
     "metadata": {
      "needs_background": "light"
     },
     "output_type": "display_data"
    }
   ],
   "source": [
    "check('incident_type')"
   ]
  },
  {
   "cell_type": "code",
   "execution_count": 26,
   "metadata": {},
   "outputs": [
    {
     "name": "stdout",
     "output_type": "stream",
     "text": [
      "Brief of policy_annual_premium: count    1000.000000\n",
      "mean     1256.406150\n",
      "std       244.167395\n",
      "min       433.330000\n",
      "25%      1089.607500\n",
      "50%      1257.200000\n",
      "75%      1415.695000\n",
      "max      2047.590000\n",
      "Name: policy_annual_premium, dtype: float64\n",
      "skewness: 0.004401994526610823\n",
      "unique values count in policy_annual_premium: 991\n"
     ]
    },
    {
     "data": {
      "image/png": "[encoded data removed]",
      "text/plain": [
       "<Figure size 576x576 with 1 Axes>"
      ]
     },
     "metadata": {
      "needs_background": "light"
     },
     "output_type": "display_data"
    }
   ],
   "source": [
    "check('policy_annual_premium')"
   ]
  },
  {
   "cell_type": "code",
   "execution_count": 27,
   "metadata": {
    "scrolled": true
   },
   "outputs": [
    {
     "name": "stdout",
     "output_type": "stream",
     "text": [
      "no. of unique values in insured_occupation is: 14\n",
      "unique values in insured_occupation is: machine-op-inspct    93\n",
      "prof-specialty       85\n",
      "tech-support         78\n",
      "exec-managerial      76\n",
      "sales                76\n",
      "craft-repair         74\n",
      "transport-moving     72\n",
      "other-service        71\n",
      "priv-house-serv      71\n",
      "armed-forces         69\n",
      "adm-clerical         65\n",
      "protective-serv      63\n",
      "handlers-cleaners    54\n",
      "farming-fishing      53\n",
      "Name: insured_occupation, dtype: int64\n"
     ]
    },
    {
     "data": {
      "image/png": "[encoded data removed]",
      "text/plain": [
       "<Figure size 576x576 with 1 Axes>"
      ]
     },
     "metadata": {
      "needs_background": "light"
     },
     "output_type": "display_data"
    }
   ],
   "source": [
    "check('insured_occupation')"
   ]
  },
  {
   "cell_type": "code",
   "execution_count": 28,
   "metadata": {},
   "outputs": [
    {
     "data": {
      "text/plain": [
       "<seaborn.axisgrid.FacetGrid at 0x22b504413d0>"
      ]
     },
     "execution_count": 28,
     "metadata": {},
     "output_type": "execute_result"
    },
    {
     "data": {
      "image/png": "[encoded data removed]",
      "text/plain": [
       "<Figure size 1522.38x360 with 4 Axes>"
      ]
     },
     "metadata": {
      "needs_background": "light"
     },
     "output_type": "display_data"
    }
   ],
   "source": [
    "sns.catplot(y='insured_hobbies',hue='fraud_reported',col='number_of_vehicles_involved',data=dfc,kind='count')"
   ]
  },
  {
   "cell_type": "code",
   "execution_count": 29,
   "metadata": {
    "scrolled": false
   },
   "outputs": [
    {
     "data": {
      "text/plain": [
       "<seaborn.axisgrid.FacetGrid at 0x22b504aa2b0>"
      ]
     },
     "execution_count": 29,
     "metadata": {},
     "output_type": "execute_result"
    },
    {
     "data": {
      "image/png": "[encoded data removed]",
      "text/plain": [
       "<Figure size 802.375x360 with 2 Axes>"
      ]
     },
     "metadata": {
      "needs_background": "light"
     },
     "output_type": "display_data"
    }
   ],
   "source": [
    "sns.catplot(y='insured_hobbies',hue='fraud_reported',col='insured_sex',data=dfc,kind='count')"
   ]
  },
  {
   "cell_type": "code",
   "execution_count": 30,
   "metadata": {
    "scrolled": false
   },
   "outputs": [
    {
     "name": "stdout",
     "output_type": "stream",
     "text": [
      "no. of unique values in property_damage is: 3\n",
      "unique values in property_damage is: ?      360\n",
      "NO     338\n",
      "YES    302\n",
      "Name: property_damage, dtype: int64\n"
     ]
    },
    {
     "data": {
      "image/png": "[encoded data removed]",
      "text/plain": [
       "<Figure size 576x576 with 1 Axes>"
      ]
     },
     "metadata": {
      "needs_background": "light"
     },
     "output_type": "display_data"
    }
   ],
   "source": [
    "check('property_damage')"
   ]
  },
  {
   "cell_type": "code",
   "execution_count": 31,
   "metadata": {},
   "outputs": [],
   "source": [
    "dfc['property_damage']=dfc['property_damage'].replace('?','YES')"
   ]
  },
  {
   "cell_type": "code",
   "execution_count": 32,
   "metadata": {},
   "outputs": [
    {
     "data": {
      "text/plain": [
       "NO     343\n",
       "?      343\n",
       "YES    314\n",
       "Name: police_report_available, dtype: int64"
      ]
     },
     "execution_count": 32,
     "metadata": {},
     "output_type": "execute_result"
    }
   ],
   "source": [
    "dfc['police_report_available'].value_counts()"
   ]
  },
  {
   "cell_type": "code",
   "execution_count": 33,
   "metadata": {},
   "outputs": [],
   "source": [
    "dfc['police_report_available']=dfc['police_report_available'].replace('?','NO')"
   ]
  },
  {
   "cell_type": "code",
   "execution_count": 34,
   "metadata": {
    "scrolled": true
   },
   "outputs": [
    {
     "name": "stdout",
     "output_type": "stream",
     "text": [
      "no. of unique values in policy_bind_date is: 951\n",
      "unique values in policy_bind_date is: 28-04-1992    3\n",
      "05-08-1992    3\n",
      "01-01-2006    3\n",
      "07-11-1997    2\n",
      "11-11-1998    2\n",
      "             ..\n",
      "28-04-1994    1\n",
      "28-08-1998    1\n",
      "11-03-1996    1\n",
      "19-08-1995    1\n",
      "02-10-2003    1\n",
      "Name: policy_bind_date, Length: 951, dtype: int64\n"
     ]
    },
    {
     "data": {
      "image/png": "[encoded data removed]",
      "text/plain": [
       "<Figure size 576x576 with 1 Axes>"
      ]
     },
     "metadata": {
      "needs_background": "light"
     },
     "output_type": "display_data"
    }
   ],
   "source": [
    "check('policy_bind_date')"
   ]
  },
  {
   "cell_type": "markdown",
   "metadata": {},
   "source": [
    "It is very noisy,we can'tget insights. Let us extract only years from that column and drop the original column"
   ]
  },
  {
   "cell_type": "code",
   "execution_count": 35,
   "metadata": {},
   "outputs": [],
   "source": [
    "dfc['policy_bind_year']=pd.to_datetime(dfc['policy_bind_date']).dt.year"
   ]
  },
  {
   "cell_type": "code",
   "execution_count": 36,
   "metadata": {},
   "outputs": [],
   "source": [
    "dfc.drop('policy_bind_date',axis=1,inplace=True)"
   ]
  },
  {
   "cell_type": "code",
   "execution_count": 37,
   "metadata": {},
   "outputs": [
    {
     "data": {
      "text/plain": [
       "<matplotlib.axes._subplots.AxesSubplot at 0x22b50d02670>"
      ]
     },
     "execution_count": 37,
     "metadata": {},
     "output_type": "execute_result"
    },
    {
     "data": {
      "image/png": "[encoded data removed]",
      "text/plain": [
       "<Figure size 576x576 with 1 Axes>"
      ]
     },
     "metadata": {
      "needs_background": "light"
     },
     "output_type": "display_data"
    }
   ],
   "source": [
    "plt.figure(figsize=(8,8))\n",
    "sns.countplot(y=dfc['policy_bind_year'],hue=dfc['fraud_reported'])"
   ]
  },
  {
   "cell_type": "markdown",
   "metadata": {},
   "source": [
    "more fraud claims are made by the customers who insured in the years 1991,2002,2012. Let us make this column simple by subpracting year with the 2015.So we will get the no. of years old."
   ]
  },
  {
   "cell_type": "code",
   "execution_count": 38,
   "metadata": {},
   "outputs": [],
   "source": [
    "dfc['policy_bind_year']=2015-dfc['policy_bind_year']"
   ]
  },
  {
   "cell_type": "code",
   "execution_count": 39,
   "metadata": {
    "scrolled": true
   },
   "outputs": [
    {
     "data": {
      "text/plain": [
       "<matplotlib.axes._subplots.AxesSubplot at 0x22b50e74d30>"
      ]
     },
     "execution_count": 39,
     "metadata": {},
     "output_type": "execute_result"
    },
    {
     "data": {
      "image/png": "[encoded data removed]",
      "text/plain": [
       "<Figure size 576x576 with 1 Axes>"
      ]
     },
     "metadata": {
      "needs_background": "light"
     },
     "output_type": "display_data"
    }
   ],
   "source": [
    "plt.figure(figsize=(8,8))\n",
    "sns.countplot(y=dfc['policy_bind_year'],hue=dfc['fraud_reported'])"
   ]
  },
  {
   "cell_type": "code",
   "execution_count": 40,
   "metadata": {
    "scrolled": true
   },
   "outputs": [
    {
     "data": {
      "text/plain": [
       "['policy_state',\n",
       " 'insured_sex',\n",
       " 'insured_education_level',\n",
       " 'insured_occupation',\n",
       " 'insured_hobbies',\n",
       " 'insured_relationship',\n",
       " 'incident_date',\n",
       " 'incident_type',\n",
       " 'collision_type',\n",
       " 'incident_severity',\n",
       " 'authorities_contacted',\n",
       " 'incident_state',\n",
       " 'incident_city',\n",
       " 'incident_location',\n",
       " 'property_damage',\n",
       " 'police_report_available',\n",
       " 'fraud_reported']"
      ]
     },
     "execution_count": 40,
     "metadata": {},
     "output_type": "execute_result"
    }
   ],
   "source": [
    "cols=[]\n",
    "for i in dfc.columns:\n",
    "    if dfc[i].dtypes=='object':\n",
    "        cols.append(i)\n",
    "cols"
   ]
  },
  {
   "cell_type": "code",
   "execution_count": null,
   "metadata": {},
   "outputs": [],
   "source": []
  },
  {
   "cell_type": "code",
   "execution_count": 41,
   "metadata": {
    "scrolled": true
   },
   "outputs": [
    {
     "data": {
      "text/html": [
       "<div>\n",
       "<style scoped>\n",
       "    .dataframe tbody tr th:only-of-type {\n",
       "        vertical-align: middle;\n",
       "    }\n",
       "\n",
       "    .dataframe tbody tr th {\n",
       "        vertical-align: top;\n",
       "    }\n",
       "\n",
       "    .dataframe thead th {\n",
       "        text-align: right;\n",
       "    }\n",
       "</style>\n",
       "<table border=\"1\" class=\"dataframe\">\n",
       "  <thead>\n",
       "    <tr style=\"text-align: right;\">\n",
       "      <th></th>\n",
       "      <th>policy_state</th>\n",
       "      <th>insured_sex</th>\n",
       "      <th>insured_education_level</th>\n",
       "      <th>insured_occupation</th>\n",
       "      <th>insured_hobbies</th>\n",
       "      <th>insured_relationship</th>\n",
       "      <th>incident_date</th>\n",
       "      <th>incident_type</th>\n",
       "      <th>collision_type</th>\n",
       "      <th>incident_severity</th>\n",
       "      <th>authorities_contacted</th>\n",
       "      <th>incident_state</th>\n",
       "      <th>incident_city</th>\n",
       "      <th>incident_location</th>\n",
       "      <th>property_damage</th>\n",
       "      <th>police_report_available</th>\n",
       "      <th>fraud_reported</th>\n",
       "    </tr>\n",
       "  </thead>\n",
       "  <tbody>\n",
       "    <tr>\n",
       "      <th>0</th>\n",
       "      <td>2</td>\n",
       "      <td>1</td>\n",
       "      <td>4</td>\n",
       "      <td>2</td>\n",
       "      <td>17</td>\n",
       "      <td>0</td>\n",
       "      <td>49</td>\n",
       "      <td>2</td>\n",
       "      <td>2</td>\n",
       "      <td>0</td>\n",
       "      <td>4</td>\n",
       "      <td>4</td>\n",
       "      <td>1</td>\n",
       "      <td>996</td>\n",
       "      <td>1</td>\n",
       "      <td>1</td>\n",
       "      <td>1</td>\n",
       "    </tr>\n",
       "    <tr>\n",
       "      <th>1</th>\n",
       "      <td>1</td>\n",
       "      <td>1</td>\n",
       "      <td>4</td>\n",
       "      <td>6</td>\n",
       "      <td>15</td>\n",
       "      <td>2</td>\n",
       "      <td>41</td>\n",
       "      <td>3</td>\n",
       "      <td>1</td>\n",
       "      <td>1</td>\n",
       "      <td>4</td>\n",
       "      <td>5</td>\n",
       "      <td>5</td>\n",
       "      <td>628</td>\n",
       "      <td>1</td>\n",
       "      <td>0</td>\n",
       "      <td>1</td>\n",
       "    </tr>\n",
       "    <tr>\n",
       "      <th>2</th>\n",
       "      <td>2</td>\n",
       "      <td>0</td>\n",
       "      <td>6</td>\n",
       "      <td>11</td>\n",
       "      <td>2</td>\n",
       "      <td>3</td>\n",
       "      <td>44</td>\n",
       "      <td>0</td>\n",
       "      <td>1</td>\n",
       "      <td>1</td>\n",
       "      <td>4</td>\n",
       "      <td>1</td>\n",
       "      <td>1</td>\n",
       "      <td>685</td>\n",
       "      <td>0</td>\n",
       "      <td>0</td>\n",
       "      <td>0</td>\n",
       "    </tr>\n",
       "    <tr>\n",
       "      <th>3</th>\n",
       "      <td>0</td>\n",
       "      <td>0</td>\n",
       "      <td>6</td>\n",
       "      <td>1</td>\n",
       "      <td>2</td>\n",
       "      <td>4</td>\n",
       "      <td>19</td>\n",
       "      <td>2</td>\n",
       "      <td>0</td>\n",
       "      <td>0</td>\n",
       "      <td>4</td>\n",
       "      <td>2</td>\n",
       "      <td>0</td>\n",
       "      <td>669</td>\n",
       "      <td>1</td>\n",
       "      <td>0</td>\n",
       "      <td>1</td>\n",
       "    </tr>\n",
       "    <tr>\n",
       "      <th>4</th>\n",
       "      <td>0</td>\n",
       "      <td>1</td>\n",
       "      <td>0</td>\n",
       "      <td>11</td>\n",
       "      <td>2</td>\n",
       "      <td>4</td>\n",
       "      <td>34</td>\n",
       "      <td>3</td>\n",
       "      <td>1</td>\n",
       "      <td>1</td>\n",
       "      <td>2</td>\n",
       "      <td>1</td>\n",
       "      <td>0</td>\n",
       "      <td>220</td>\n",
       "      <td>0</td>\n",
       "      <td>0</td>\n",
       "      <td>0</td>\n",
       "    </tr>\n",
       "    <tr>\n",
       "      <th>...</th>\n",
       "      <td>...</td>\n",
       "      <td>...</td>\n",
       "      <td>...</td>\n",
       "      <td>...</td>\n",
       "      <td>...</td>\n",
       "      <td>...</td>\n",
       "      <td>...</td>\n",
       "      <td>...</td>\n",
       "      <td>...</td>\n",
       "      <td>...</td>\n",
       "      <td>...</td>\n",
       "      <td>...</td>\n",
       "      <td>...</td>\n",
       "      <td>...</td>\n",
       "      <td>...</td>\n",
       "      <td>...</td>\n",
       "      <td>...</td>\n",
       "    </tr>\n",
       "    <tr>\n",
       "      <th>995</th>\n",
       "      <td>2</td>\n",
       "      <td>0</td>\n",
       "      <td>5</td>\n",
       "      <td>2</td>\n",
       "      <td>13</td>\n",
       "      <td>4</td>\n",
       "      <td>44</td>\n",
       "      <td>2</td>\n",
       "      <td>0</td>\n",
       "      <td>1</td>\n",
       "      <td>1</td>\n",
       "      <td>0</td>\n",
       "      <td>4</td>\n",
       "      <td>561</td>\n",
       "      <td>1</td>\n",
       "      <td>0</td>\n",
       "      <td>0</td>\n",
       "    </tr>\n",
       "    <tr>\n",
       "      <th>996</th>\n",
       "      <td>0</td>\n",
       "      <td>0</td>\n",
       "      <td>6</td>\n",
       "      <td>9</td>\n",
       "      <td>17</td>\n",
       "      <td>5</td>\n",
       "      <td>47</td>\n",
       "      <td>2</td>\n",
       "      <td>1</td>\n",
       "      <td>0</td>\n",
       "      <td>1</td>\n",
       "      <td>4</td>\n",
       "      <td>3</td>\n",
       "      <td>227</td>\n",
       "      <td>1</td>\n",
       "      <td>0</td>\n",
       "      <td>0</td>\n",
       "    </tr>\n",
       "    <tr>\n",
       "      <th>997</th>\n",
       "      <td>2</td>\n",
       "      <td>0</td>\n",
       "      <td>5</td>\n",
       "      <td>1</td>\n",
       "      <td>3</td>\n",
       "      <td>2</td>\n",
       "      <td>45</td>\n",
       "      <td>0</td>\n",
       "      <td>2</td>\n",
       "      <td>1</td>\n",
       "      <td>4</td>\n",
       "      <td>0</td>\n",
       "      <td>0</td>\n",
       "      <td>746</td>\n",
       "      <td>1</td>\n",
       "      <td>1</td>\n",
       "      <td>0</td>\n",
       "    </tr>\n",
       "    <tr>\n",
       "      <th>998</th>\n",
       "      <td>0</td>\n",
       "      <td>1</td>\n",
       "      <td>0</td>\n",
       "      <td>5</td>\n",
       "      <td>0</td>\n",
       "      <td>5</td>\n",
       "      <td>52</td>\n",
       "      <td>2</td>\n",
       "      <td>1</td>\n",
       "      <td>0</td>\n",
       "      <td>3</td>\n",
       "      <td>1</td>\n",
       "      <td>0</td>\n",
       "      <td>569</td>\n",
       "      <td>1</td>\n",
       "      <td>1</td>\n",
       "      <td>0</td>\n",
       "    </tr>\n",
       "    <tr>\n",
       "      <th>999</th>\n",
       "      <td>2</td>\n",
       "      <td>0</td>\n",
       "      <td>0</td>\n",
       "      <td>11</td>\n",
       "      <td>11</td>\n",
       "      <td>0</td>\n",
       "      <td>52</td>\n",
       "      <td>1</td>\n",
       "      <td>1</td>\n",
       "      <td>1</td>\n",
       "      <td>4</td>\n",
       "      <td>6</td>\n",
       "      <td>1</td>\n",
       "      <td>43</td>\n",
       "      <td>1</td>\n",
       "      <td>0</td>\n",
       "      <td>0</td>\n",
       "    </tr>\n",
       "  </tbody>\n",
       "</table>\n",
       "<p>1000 rows × 17 columns</p>\n",
       "</div>"
      ],
      "text/plain": [
       "     policy_state  insured_sex  insured_education_level  insured_occupation  \\\n",
       "0               2            1                        4                   2   \n",
       "1               1            1                        4                   6   \n",
       "2               2            0                        6                  11   \n",
       "3               0            0                        6                   1   \n",
       "4               0            1                        0                  11   \n",
       "..            ...          ...                      ...                 ...   \n",
       "995             2            0                        5                   2   \n",
       "996             0            0                        6                   9   \n",
       "997             2            0                        5                   1   \n",
       "998             0            1                        0                   5   \n",
       "999             2            0                        0                  11   \n",
       "\n",
       "     insured_hobbies  insured_relationship  incident_date  incident_type  \\\n",
       "0                 17                     0             49              2   \n",
       "1                 15                     2             41              3   \n",
       "2                  2                     3             44              0   \n",
       "3                  2                     4             19              2   \n",
       "4                  2                     4             34              3   \n",
       "..               ...                   ...            ...            ...   \n",
       "995               13                     4             44              2   \n",
       "996               17                     5             47              2   \n",
       "997                3                     2             45              0   \n",
       "998                0                     5             52              2   \n",
       "999               11                     0             52              1   \n",
       "\n",
       "     collision_type  incident_severity  authorities_contacted  incident_state  \\\n",
       "0                 2                  0                      4               4   \n",
       "1                 1                  1                      4               5   \n",
       "2                 1                  1                      4               1   \n",
       "3                 0                  0                      4               2   \n",
       "4                 1                  1                      2               1   \n",
       "..              ...                ...                    ...             ...   \n",
       "995               0                  1                      1               0   \n",
       "996               1                  0                      1               4   \n",
       "997               2                  1                      4               0   \n",
       "998               1                  0                      3               1   \n",
       "999               1                  1                      4               6   \n",
       "\n",
       "     incident_city  incident_location  property_damage  \\\n",
       "0                1                996                1   \n",
       "1                5                628                1   \n",
       "2                1                685                0   \n",
       "3                0                669                1   \n",
       "4                0                220                0   \n",
       "..             ...                ...              ...   \n",
       "995              4                561                1   \n",
       "996              3                227                1   \n",
       "997              0                746                1   \n",
       "998              0                569                1   \n",
       "999              1                 43                1   \n",
       "\n",
       "     police_report_available  fraud_reported  \n",
       "0                          1               1  \n",
       "1                          0               1  \n",
       "2                          0               0  \n",
       "3                          0               1  \n",
       "4                          0               0  \n",
       "..                       ...             ...  \n",
       "995                        0               0  \n",
       "996                        0               0  \n",
       "997                        1               0  \n",
       "998                        1               0  \n",
       "999                        0               0  \n",
       "\n",
       "[1000 rows x 17 columns]"
      ]
     },
     "execution_count": 41,
     "metadata": {},
     "output_type": "execute_result"
    }
   ],
   "source": [
    "from sklearn.preprocessing import LabelEncoder\n",
    "le=LabelEncoder()\n",
    "for col in cols[:]:\n",
    "    dfc[col]=le.fit_transform(dfc[col])\n",
    "dfc.loc[:,cols]"
   ]
  },
  {
   "cell_type": "markdown",
   "metadata": {},
   "source": [
    "Now every column is encoded. We can drop the columns incident date, incident location, since those can be anything, that doesn't mean or give any info.\n",
    "We have state and city info, so no need of address, also we find they are 1000 locations"
   ]
  },
  {
   "cell_type": "code",
   "execution_count": 42,
   "metadata": {},
   "outputs": [],
   "source": [
    "dfc.drop(['incident_date','incident_location'],axis=1,inplace=True)"
   ]
  },
  {
   "cell_type": "code",
   "execution_count": 43,
   "metadata": {
    "scrolled": false
   },
   "outputs": [
    {
     "data": {
      "text/plain": [
       "Index(['months_as_customer', 'age', 'policy_state', 'policy_deductable',\n",
       "       'policy_annual_premium', 'umbrella_limit', 'insured_sex',\n",
       "       'insured_education_level', 'insured_occupation', 'insured_hobbies',\n",
       "       'insured_relationship', 'capital-gains', 'capital-loss',\n",
       "       'incident_type', 'collision_type', 'incident_severity',\n",
       "       'authorities_contacted', 'incident_state', 'incident_city',\n",
       "       'incident_hour_of_the_day', 'number_of_vehicles_involved',\n",
       "       'property_damage', 'bodily_injuries', 'witnesses',\n",
       "       'police_report_available', 'total_claim_amount', 'injury_claim',\n",
       "       'property_claim', 'vehicle_claim', 'fraud_reported',\n",
       "       'policy_bind_year'],\n",
       "      dtype='object')"
      ]
     },
     "execution_count": 43,
     "metadata": {},
     "output_type": "execute_result"
    }
   ],
   "source": [
    "dfc.columns"
   ]
  },
  {
   "cell_type": "code",
   "execution_count": 44,
   "metadata": {
    "scrolled": false
   },
   "outputs": [
    {
     "data": {
      "text/plain": [
       "months_as_customer             0.362177\n",
       "age                            0.478988\n",
       "policy_state                  -0.026177\n",
       "policy_deductable              0.477887\n",
       "policy_annual_premium          0.004402\n",
       "umbrella_limit                 1.806712\n",
       "insured_sex                    0.148630\n",
       "insured_education_level       -0.000148\n",
       "insured_occupation            -0.058881\n",
       "insured_hobbies               -0.061563\n",
       "insured_relationship           0.077488\n",
       "capital-gains                  0.478850\n",
       "capital-loss                  -0.391472\n",
       "incident_type                  0.101507\n",
       "collision_type                -0.033682\n",
       "incident_severity              0.279016\n",
       "authorities_contacted         -0.121744\n",
       "incident_state                -0.148865\n",
       "incident_city                  0.049531\n",
       "incident_hour_of_the_day      -0.035584\n",
       "number_of_vehicles_involved    0.502664\n",
       "property_damage               -0.685977\n",
       "bodily_injuries                0.014777\n",
       "witnesses                      0.019636\n",
       "police_report_available        0.802728\n",
       "total_claim_amount            -0.594582\n",
       "injury_claim                   0.264811\n",
       "property_claim                 0.378169\n",
       "vehicle_claim                 -0.621098\n",
       "fraud_reported                 1.175051\n",
       "policy_bind_year              -0.052511\n",
       "dtype: float64"
      ]
     },
     "execution_count": 44,
     "metadata": {},
     "output_type": "execute_result"
    }
   ],
   "source": [
    "dfc.skew()"
   ]
  },
  {
   "cell_type": "code",
   "execution_count": 45,
   "metadata": {
    "scrolled": false
   },
   "outputs": [
    {
     "name": "stderr",
     "output_type": "stream",
     "text": [
      "C:\\Users\\Lucky Girish\\anaconda3\\lib\\site-packages\\pandas\\core\\series.py:679: RuntimeWarning: invalid value encountered in log\n",
      "  result = getattr(ufunc, method)(*inputs, **kwargs)\n",
      "C:\\Users\\Lucky Girish\\anaconda3\\lib\\site-packages\\seaborn\\distributions.py:2551: FutureWarning: `distplot` is a deprecated function and will be removed in a future version. Please adapt your code to use either `displot` (a figure-level function with similar flexibility) or `histplot` (an axes-level function for histograms).\n",
      "  warnings.warn(msg, FutureWarning)\n"
     ]
    },
    {
     "data": {
      "text/plain": [
       "<matplotlib.axes._subplots.AxesSubplot at 0x22b53b76310>"
      ]
     },
     "execution_count": 45,
     "metadata": {},
     "output_type": "execute_result"
    },
    {
     "data": {
      "image/png": "[encoded data removed]",
      "text/plain": [
       "<Figure size 432x288 with 1 Axes>"
      ]
     },
     "metadata": {
      "needs_background": "light"
     },
     "output_type": "display_data"
    }
   ],
   "source": [
    "dfc['umbrella_limit']=np.log(dfc['umbrella_limit']+1)\n",
    "sns.distplot(dfc['umbrella_limit'])"
   ]
  },
  {
   "cell_type": "code",
   "execution_count": 46,
   "metadata": {},
   "outputs": [
    {
     "data": {
      "text/plain": [
       "1.4944987932625282"
      ]
     },
     "execution_count": 46,
     "metadata": {},
     "output_type": "execute_result"
    }
   ],
   "source": [
    "dfc['umbrella_limit'].skew()"
   ]
  },
  {
   "cell_type": "markdown",
   "metadata": {},
   "source": [
    "skewness reduced"
   ]
  },
  {
   "cell_type": "code",
   "execution_count": 47,
   "metadata": {},
   "outputs": [
    {
     "name": "stderr",
     "output_type": "stream",
     "text": [
      "C:\\Users\\Lucky Girish\\anaconda3\\lib\\site-packages\\seaborn\\distributions.py:2551: FutureWarning: `distplot` is a deprecated function and will be removed in a future version. Please adapt your code to use either `displot` (a figure-level function with similar flexibility) or `histplot` (an axes-level function for histograms).\n",
      "  warnings.warn(msg, FutureWarning)\n"
     ]
    },
    {
     "data": {
      "text/plain": [
       "0.5330084731063726"
      ]
     },
     "execution_count": 47,
     "metadata": {},
     "output_type": "execute_result"
    },
    {
     "data": {
      "image/png": "[encoded data removed]",
      "text/plain": [
       "<Figure size 432x288 with 1 Axes>"
      ]
     },
     "metadata": {
      "needs_background": "light"
     },
     "output_type": "display_data"
    }
   ],
   "source": [
    "dfc['total_claim_amount']=np.square(dfc['total_claim_amount'])\n",
    "sns.distplot(dfc['total_claim_amount'])\n",
    "dfc['total_claim_amount'].skew()"
   ]
  },
  {
   "cell_type": "code",
   "execution_count": 48,
   "metadata": {
    "scrolled": true
   },
   "outputs": [
    {
     "data": {
      "text/plain": [
       "<matplotlib.axes._subplots.AxesSubplot at 0x22b5067c5e0>"
      ]
     },
     "execution_count": 48,
     "metadata": {},
     "output_type": "execute_result"
    },
    {
     "data": {
      "image/png": "[encoded data removed]",
      "text/plain": [
       "<Figure size 864x864 with 2 Axes>"
      ]
     },
     "metadata": {
      "needs_background": "light"
     },
     "output_type": "display_data"
    }
   ],
   "source": [
    "plt.figure(figsize=(12,12))\n",
    "cor=round(dfc.corr(),1)\n",
    "sns.heatmap(cor,annot=True)"
   ]
  },
  {
   "cell_type": "code",
   "execution_count": 49,
   "metadata": {},
   "outputs": [],
   "source": [
    "dfc.drop(['age','incident_hour_of_the_day','injury_claim','property_claim','vehicle_claim'],axis=1,inplace=True)"
   ]
  },
  {
   "cell_type": "code",
   "execution_count": 50,
   "metadata": {},
   "outputs": [],
   "source": [
    "from scipy import stats\n",
    "import statsmodels.api as sm\n",
    "from statsmodels.stats.outliers_influence import variance_inflation_factor\n",
    "def calc_vif(x):\n",
    "    vif=pd.DataFrame()\n",
    "    vif['variables']=x.columns\n",
    "    vif['vif factor']=[variance_inflation_factor(x.values,i) for i in range(x.shape[1])]\n",
    "    return(vif)"
   ]
  },
  {
   "cell_type": "code",
   "execution_count": 51,
   "metadata": {},
   "outputs": [],
   "source": [
    "dfc.dropna(inplace=True)"
   ]
  },
  {
   "cell_type": "code",
   "execution_count": 52,
   "metadata": {},
   "outputs": [
    {
     "data": {
      "text/html": [
       "<div>\n",
       "<style scoped>\n",
       "    .dataframe tbody tr th:only-of-type {\n",
       "        vertical-align: middle;\n",
       "    }\n",
       "\n",
       "    .dataframe tbody tr th {\n",
       "        vertical-align: top;\n",
       "    }\n",
       "\n",
       "    .dataframe thead th {\n",
       "        text-align: right;\n",
       "    }\n",
       "</style>\n",
       "<table border=\"1\" class=\"dataframe\">\n",
       "  <thead>\n",
       "    <tr style=\"text-align: right;\">\n",
       "      <th></th>\n",
       "      <th>variables</th>\n",
       "      <th>vif factor</th>\n",
       "    </tr>\n",
       "  </thead>\n",
       "  <tbody>\n",
       "    <tr>\n",
       "      <th>0</th>\n",
       "      <td>months_as_customer</td>\n",
       "      <td>4.180330</td>\n",
       "    </tr>\n",
       "    <tr>\n",
       "      <th>1</th>\n",
       "      <td>policy_state</td>\n",
       "      <td>2.506335</td>\n",
       "    </tr>\n",
       "    <tr>\n",
       "      <th>2</th>\n",
       "      <td>policy_deductable</td>\n",
       "      <td>4.451835</td>\n",
       "    </tr>\n",
       "    <tr>\n",
       "      <th>3</th>\n",
       "      <td>policy_annual_premium</td>\n",
       "      <td>21.529027</td>\n",
       "    </tr>\n",
       "    <tr>\n",
       "      <th>4</th>\n",
       "      <td>umbrella_limit</td>\n",
       "      <td>1.292254</td>\n",
       "    </tr>\n",
       "    <tr>\n",
       "      <th>5</th>\n",
       "      <td>insured_sex</td>\n",
       "      <td>1.895181</td>\n",
       "    </tr>\n",
       "    <tr>\n",
       "      <th>6</th>\n",
       "      <td>insured_education_level</td>\n",
       "      <td>3.320101</td>\n",
       "    </tr>\n",
       "    <tr>\n",
       "      <th>7</th>\n",
       "      <td>insured_occupation</td>\n",
       "      <td>3.664761</td>\n",
       "    </tr>\n",
       "    <tr>\n",
       "      <th>8</th>\n",
       "      <td>insured_hobbies</td>\n",
       "      <td>3.985819</td>\n",
       "    </tr>\n",
       "    <tr>\n",
       "      <th>9</th>\n",
       "      <td>insured_relationship</td>\n",
       "      <td>3.089837</td>\n",
       "    </tr>\n",
       "    <tr>\n",
       "      <th>10</th>\n",
       "      <td>capital-gains</td>\n",
       "      <td>1.864052</td>\n",
       "    </tr>\n",
       "    <tr>\n",
       "      <th>11</th>\n",
       "      <td>capital-loss</td>\n",
       "      <td>1.956952</td>\n",
       "    </tr>\n",
       "    <tr>\n",
       "      <th>12</th>\n",
       "      <td>incident_type</td>\n",
       "      <td>7.715377</td>\n",
       "    </tr>\n",
       "    <tr>\n",
       "      <th>13</th>\n",
       "      <td>collision_type</td>\n",
       "      <td>3.039507</td>\n",
       "    </tr>\n",
       "    <tr>\n",
       "      <th>14</th>\n",
       "      <td>incident_severity</td>\n",
       "      <td>3.310647</td>\n",
       "    </tr>\n",
       "    <tr>\n",
       "      <th>15</th>\n",
       "      <td>authorities_contacted</td>\n",
       "      <td>3.140934</td>\n",
       "    </tr>\n",
       "    <tr>\n",
       "      <th>16</th>\n",
       "      <td>incident_state</td>\n",
       "      <td>3.337455</td>\n",
       "    </tr>\n",
       "    <tr>\n",
       "      <th>17</th>\n",
       "      <td>incident_city</td>\n",
       "      <td>3.148127</td>\n",
       "    </tr>\n",
       "    <tr>\n",
       "      <th>18</th>\n",
       "      <td>number_of_vehicles_involved</td>\n",
       "      <td>14.193209</td>\n",
       "    </tr>\n",
       "    <tr>\n",
       "      <th>19</th>\n",
       "      <td>property_damage</td>\n",
       "      <td>2.947219</td>\n",
       "    </tr>\n",
       "    <tr>\n",
       "      <th>20</th>\n",
       "      <td>bodily_injuries</td>\n",
       "      <td>2.506211</td>\n",
       "    </tr>\n",
       "    <tr>\n",
       "      <th>21</th>\n",
       "      <td>witnesses</td>\n",
       "      <td>2.808128</td>\n",
       "    </tr>\n",
       "    <tr>\n",
       "      <th>22</th>\n",
       "      <td>police_report_available</td>\n",
       "      <td>1.502179</td>\n",
       "    </tr>\n",
       "    <tr>\n",
       "      <th>23</th>\n",
       "      <td>total_claim_amount</td>\n",
       "      <td>3.340393</td>\n",
       "    </tr>\n",
       "    <tr>\n",
       "      <th>24</th>\n",
       "      <td>fraud_reported</td>\n",
       "      <td>1.614702</td>\n",
       "    </tr>\n",
       "    <tr>\n",
       "      <th>25</th>\n",
       "      <td>policy_bind_year</td>\n",
       "      <td>4.332393</td>\n",
       "    </tr>\n",
       "  </tbody>\n",
       "</table>\n",
       "</div>"
      ],
      "text/plain": [
       "                      variables  vif factor\n",
       "0            months_as_customer    4.180330\n",
       "1                  policy_state    2.506335\n",
       "2             policy_deductable    4.451835\n",
       "3         policy_annual_premium   21.529027\n",
       "4                umbrella_limit    1.292254\n",
       "5                   insured_sex    1.895181\n",
       "6       insured_education_level    3.320101\n",
       "7            insured_occupation    3.664761\n",
       "8               insured_hobbies    3.985819\n",
       "9          insured_relationship    3.089837\n",
       "10                capital-gains    1.864052\n",
       "11                 capital-loss    1.956952\n",
       "12                incident_type    7.715377\n",
       "13               collision_type    3.039507\n",
       "14            incident_severity    3.310647\n",
       "15        authorities_contacted    3.140934\n",
       "16               incident_state    3.337455\n",
       "17                incident_city    3.148127\n",
       "18  number_of_vehicles_involved   14.193209\n",
       "19              property_damage    2.947219\n",
       "20              bodily_injuries    2.506211\n",
       "21                    witnesses    2.808128\n",
       "22      police_report_available    1.502179\n",
       "23           total_claim_amount    3.340393\n",
       "24               fraud_reported    1.614702\n",
       "25             policy_bind_year    4.332393"
      ]
     },
     "execution_count": 52,
     "metadata": {},
     "output_type": "execute_result"
    }
   ],
   "source": [
    "calc_vif(dfc)"
   ]
  },
  {
   "cell_type": "markdown",
   "metadata": {},
   "source": [
    "there is high multicolinearity in columns policy_annual_premium, number of vehicles involved.we require these columns, so we will drop the columns, policy deductable, number of vehicles involved"
   ]
  },
  {
   "cell_type": "code",
   "execution_count": 53,
   "metadata": {},
   "outputs": [],
   "source": [
    "dfc.drop(['number_of_vehicles_involved','policy_deductable'],axis=1,inplace=True)"
   ]
  },
  {
   "cell_type": "code",
   "execution_count": 54,
   "metadata": {
    "scrolled": true
   },
   "outputs": [
    {
     "data": {
      "text/html": [
       "<div>\n",
       "<style scoped>\n",
       "    .dataframe tbody tr th:only-of-type {\n",
       "        vertical-align: middle;\n",
       "    }\n",
       "\n",
       "    .dataframe tbody tr th {\n",
       "        vertical-align: top;\n",
       "    }\n",
       "\n",
       "    .dataframe thead th {\n",
       "        text-align: right;\n",
       "    }\n",
       "</style>\n",
       "<table border=\"1\" class=\"dataframe\">\n",
       "  <thead>\n",
       "    <tr style=\"text-align: right;\">\n",
       "      <th></th>\n",
       "      <th>variables</th>\n",
       "      <th>vif factor</th>\n",
       "    </tr>\n",
       "  </thead>\n",
       "  <tbody>\n",
       "    <tr>\n",
       "      <th>0</th>\n",
       "      <td>months_as_customer</td>\n",
       "      <td>4.107113</td>\n",
       "    </tr>\n",
       "    <tr>\n",
       "      <th>1</th>\n",
       "      <td>policy_state</td>\n",
       "      <td>2.494736</td>\n",
       "    </tr>\n",
       "    <tr>\n",
       "      <th>2</th>\n",
       "      <td>policy_annual_premium</td>\n",
       "      <td>17.565383</td>\n",
       "    </tr>\n",
       "    <tr>\n",
       "      <th>3</th>\n",
       "      <td>umbrella_limit</td>\n",
       "      <td>1.289438</td>\n",
       "    </tr>\n",
       "    <tr>\n",
       "      <th>4</th>\n",
       "      <td>insured_sex</td>\n",
       "      <td>1.876866</td>\n",
       "    </tr>\n",
       "    <tr>\n",
       "      <th>5</th>\n",
       "      <td>insured_education_level</td>\n",
       "      <td>3.257709</td>\n",
       "    </tr>\n",
       "    <tr>\n",
       "      <th>6</th>\n",
       "      <td>insured_occupation</td>\n",
       "      <td>3.629742</td>\n",
       "    </tr>\n",
       "    <tr>\n",
       "      <th>7</th>\n",
       "      <td>insured_hobbies</td>\n",
       "      <td>3.856024</td>\n",
       "    </tr>\n",
       "    <tr>\n",
       "      <th>8</th>\n",
       "      <td>insured_relationship</td>\n",
       "      <td>3.069920</td>\n",
       "    </tr>\n",
       "    <tr>\n",
       "      <th>9</th>\n",
       "      <td>capital-gains</td>\n",
       "      <td>1.837321</td>\n",
       "    </tr>\n",
       "    <tr>\n",
       "      <th>10</th>\n",
       "      <td>capital-loss</td>\n",
       "      <td>1.951280</td>\n",
       "    </tr>\n",
       "    <tr>\n",
       "      <th>11</th>\n",
       "      <td>incident_type</td>\n",
       "      <td>2.338778</td>\n",
       "    </tr>\n",
       "    <tr>\n",
       "      <th>12</th>\n",
       "      <td>collision_type</td>\n",
       "      <td>2.986292</td>\n",
       "    </tr>\n",
       "    <tr>\n",
       "      <th>13</th>\n",
       "      <td>incident_severity</td>\n",
       "      <td>3.268254</td>\n",
       "    </tr>\n",
       "    <tr>\n",
       "      <th>14</th>\n",
       "      <td>authorities_contacted</td>\n",
       "      <td>3.093129</td>\n",
       "    </tr>\n",
       "    <tr>\n",
       "      <th>15</th>\n",
       "      <td>incident_state</td>\n",
       "      <td>3.322308</td>\n",
       "    </tr>\n",
       "    <tr>\n",
       "      <th>16</th>\n",
       "      <td>incident_city</td>\n",
       "      <td>3.118467</td>\n",
       "    </tr>\n",
       "    <tr>\n",
       "      <th>17</th>\n",
       "      <td>property_damage</td>\n",
       "      <td>2.907552</td>\n",
       "    </tr>\n",
       "    <tr>\n",
       "      <th>18</th>\n",
       "      <td>bodily_injuries</td>\n",
       "      <td>2.495741</td>\n",
       "    </tr>\n",
       "    <tr>\n",
       "      <th>19</th>\n",
       "      <td>witnesses</td>\n",
       "      <td>2.775524</td>\n",
       "    </tr>\n",
       "    <tr>\n",
       "      <th>20</th>\n",
       "      <td>police_report_available</td>\n",
       "      <td>1.498860</td>\n",
       "    </tr>\n",
       "    <tr>\n",
       "      <th>21</th>\n",
       "      <td>total_claim_amount</td>\n",
       "      <td>3.273928</td>\n",
       "    </tr>\n",
       "    <tr>\n",
       "      <th>22</th>\n",
       "      <td>fraud_reported</td>\n",
       "      <td>1.603141</td>\n",
       "    </tr>\n",
       "    <tr>\n",
       "      <th>23</th>\n",
       "      <td>policy_bind_year</td>\n",
       "      <td>4.195720</td>\n",
       "    </tr>\n",
       "  </tbody>\n",
       "</table>\n",
       "</div>"
      ],
      "text/plain": [
       "                  variables  vif factor\n",
       "0        months_as_customer    4.107113\n",
       "1              policy_state    2.494736\n",
       "2     policy_annual_premium   17.565383\n",
       "3            umbrella_limit    1.289438\n",
       "4               insured_sex    1.876866\n",
       "5   insured_education_level    3.257709\n",
       "6        insured_occupation    3.629742\n",
       "7           insured_hobbies    3.856024\n",
       "8      insured_relationship    3.069920\n",
       "9             capital-gains    1.837321\n",
       "10             capital-loss    1.951280\n",
       "11            incident_type    2.338778\n",
       "12           collision_type    2.986292\n",
       "13        incident_severity    3.268254\n",
       "14    authorities_contacted    3.093129\n",
       "15           incident_state    3.322308\n",
       "16            incident_city    3.118467\n",
       "17          property_damage    2.907552\n",
       "18          bodily_injuries    2.495741\n",
       "19                witnesses    2.775524\n",
       "20  police_report_available    1.498860\n",
       "21       total_claim_amount    3.273928\n",
       "22           fraud_reported    1.603141\n",
       "23         policy_bind_year    4.195720"
      ]
     },
     "execution_count": 54,
     "metadata": {},
     "output_type": "execute_result"
    }
   ],
   "source": [
    "calc_vif(dfc)"
   ]
  },
  {
   "cell_type": "markdown",
   "metadata": {},
   "source": [
    "also capital gain, capital loss - is related to company, which is not required ,one will check their own benefit will not think how much amount they are gonna make loss to company.So we can drop those."
   ]
  },
  {
   "cell_type": "code",
   "execution_count": 55,
   "metadata": {},
   "outputs": [],
   "source": [
    "dfc.drop(['capital-gains','capital-loss'],axis=1,inplace=True)"
   ]
  },
  {
   "cell_type": "code",
   "execution_count": 56,
   "metadata": {},
   "outputs": [],
   "source": [
    "#Let us split the columns x & y\n",
    "x=dfc.drop('fraud_reported',axis=1)\n",
    "y=dfc['fraud_reported']"
   ]
  },
  {
   "cell_type": "code",
   "execution_count": 58,
   "metadata": {},
   "outputs": [],
   "source": [
    "#Scaling the dataset\n",
    "from sklearn.preprocessing import StandardScaler\n",
    "sc=StandardScaler()\n",
    "x_scaled=sc.fit_transform(x)"
   ]
  },
  {
   "cell_type": "code",
   "execution_count": 59,
   "metadata": {},
   "outputs": [],
   "source": [
    "from imblearn.over_sampling import SMOTE\n",
    "smt=SMOTE()\n",
    "x_balanced,y_balanced=smt.fit_resample(x_scaled,y)"
   ]
  },
  {
   "cell_type": "code",
   "execution_count": 60,
   "metadata": {
    "scrolled": true
   },
   "outputs": [
    {
     "name": "stdout",
     "output_type": "stream",
     "text": [
      "Best score:0.813953488372093\n",
      " random state: 832\n"
     ]
    }
   ],
   "source": [
    "#Let us import and split x y at best random state\n",
    "from sklearn.linear_model import LogisticRegression\n",
    "from sklearn.metrics import confusion_matrix,accuracy_score,classification_report\n",
    "from sklearn.model_selection import train_test_split\n",
    "\n",
    "lo=LogisticRegression()\n",
    "rs=0\n",
    "acsc=0\n",
    "\n",
    "for i in range(1000):\n",
    "    x_train,x_test,y_train,y_test=train_test_split(x_balanced,y_balanced,test_size=0.2,random_state=i)\n",
    "    lo.fit(x_train,y_train)\n",
    "    pred=lo.predict(x_test)\n",
    "    acc=accuracy_score(y_test,pred)\n",
    "    if acc>acsc:\n",
    "        acsc=acc\n",
    "        rs=i\n",
    "print(f'Best score:{acsc}\\n random state: {rs}')"
   ]
  },
  {
   "cell_type": "code",
   "execution_count": 61,
   "metadata": {},
   "outputs": [],
   "source": [
    "x_train,x_test,y_train,y_test=train_test_split(x_balanced,y_balanced,test_size=0.2,random_state=832)"
   ]
  },
  {
   "cell_type": "code",
   "execution_count": 62,
   "metadata": {
    "scrolled": false
   },
   "outputs": [
    {
     "name": "stdout",
     "output_type": "stream",
     "text": [
      "LogisticRegression():\n",
      "accuracy score: 0.813953488372093\n",
      "confusion matrix:\n",
      " [[122  28]\n",
      " [ 28 123]]\n",
      "classification report:\n",
      "               precision    recall  f1-score   support\n",
      "\n",
      "           0       0.81      0.81      0.81       150\n",
      "           1       0.81      0.81      0.81       151\n",
      "\n",
      "    accuracy                           0.81       301\n",
      "   macro avg       0.81      0.81      0.81       301\n",
      "weighted avg       0.81      0.81      0.81       301\n",
      "\n",
      "mean cv score: 0.7453621262458472\n",
      "\n",
      "\n",
      "SVC():\n",
      "accuracy score: 0.8870431893687708\n",
      "confusion matrix:\n",
      " [[129  21]\n",
      " [ 13 138]]\n",
      "classification report:\n",
      "               precision    recall  f1-score   support\n",
      "\n",
      "           0       0.91      0.86      0.88       150\n",
      "           1       0.87      0.91      0.89       151\n",
      "\n",
      "    accuracy                           0.89       301\n",
      "   macro avg       0.89      0.89      0.89       301\n",
      "weighted avg       0.89      0.89      0.89       301\n",
      "\n",
      "mean cv score: 0.845767441860465\n",
      "\n",
      "\n",
      "DecisionTreeClassifier():\n",
      "accuracy score: 0.8538205980066446\n",
      "confusion matrix:\n",
      " [[129  21]\n",
      " [ 23 128]]\n",
      "classification report:\n",
      "               precision    recall  f1-score   support\n",
      "\n",
      "           0       0.85      0.86      0.85       150\n",
      "           1       0.86      0.85      0.85       151\n",
      "\n",
      "    accuracy                           0.85       301\n",
      "   macro avg       0.85      0.85      0.85       301\n",
      "weighted avg       0.85      0.85      0.85       301\n",
      "\n",
      "mean cv score: 0.8491052048726466\n",
      "\n",
      "\n",
      "RandomForestClassifier():\n",
      "accuracy score: 0.9136212624584718\n",
      "confusion matrix:\n",
      " [[138  12]\n",
      " [ 14 137]]\n",
      "classification report:\n",
      "               precision    recall  f1-score   support\n",
      "\n",
      "           0       0.91      0.92      0.91       150\n",
      "           1       0.92      0.91      0.91       151\n",
      "\n",
      "    accuracy                           0.91       301\n",
      "   macro avg       0.91      0.91      0.91       301\n",
      "weighted avg       0.91      0.91      0.91       301\n",
      "\n",
      "mean cv score: 0.8730564784053156\n",
      "\n",
      "\n",
      "GradientBoostingClassifier():\n",
      "accuracy score: 0.9136212624584718\n",
      "confusion matrix:\n",
      " [[133  17]\n",
      " [  9 142]]\n",
      "classification report:\n",
      "               precision    recall  f1-score   support\n",
      "\n",
      "           0       0.94      0.89      0.91       150\n",
      "           1       0.89      0.94      0.92       151\n",
      "\n",
      "    accuracy                           0.91       301\n",
      "   macro avg       0.91      0.91      0.91       301\n",
      "weighted avg       0.91      0.91      0.91       301\n",
      "\n",
      "mean cv score: 0.8803521594684385\n",
      "\n",
      "\n",
      "KNeighborsClassifier():\n",
      "accuracy score: 0.7209302325581395\n",
      "confusion matrix:\n",
      " [[ 72  78]\n",
      " [  6 145]]\n",
      "classification report:\n",
      "               precision    recall  f1-score   support\n",
      "\n",
      "           0       0.92      0.48      0.63       150\n",
      "           1       0.65      0.96      0.78       151\n",
      "\n",
      "    accuracy                           0.72       301\n",
      "   macro avg       0.79      0.72      0.70       301\n",
      "weighted avg       0.79      0.72      0.70       301\n",
      "\n",
      "mean cv score: 0.7340509413067553\n",
      "\n",
      "\n"
     ]
    }
   ],
   "source": [
    "#importing other models\n",
    "from sklearn.tree import DecisionTreeClassifier\n",
    "from sklearn.ensemble import RandomForestClassifier\n",
    "from sklearn.ensemble import GradientBoostingClassifier\n",
    "from sklearn.svm import SVC\n",
    "from sklearn.neighbors import KNeighborsClassifier\n",
    "from sklearn.model_selection import cross_val_score\n",
    "models=[LogisticRegression(),SVC(),DecisionTreeClassifier(),RandomForestClassifier(),GradientBoostingClassifier(),KNeighborsClassifier()]\n",
    "for m in models:\n",
    "    m.fit(x_train,y_train)\n",
    "    predm=m.predict(x_test)\n",
    "    print(f'{m}:')\n",
    "    print('accuracy score:',accuracy_score(y_test,predm))\n",
    "    print('confusion matrix:\\n',confusion_matrix(y_test,predm))\n",
    "    print('classification report:\\n',classification_report(y_test,predm))\n",
    "    cvscore=cross_val_score(m,x_balanced,y_balanced,cv=5)\n",
    "    print('mean cv score:',cvscore.mean())\n",
    "    print('\\n')"
   ]
  },
  {
   "cell_type": "code",
   "execution_count": 85,
   "metadata": {
    "scrolled": false
   },
   "outputs": [
    {
     "name": "stdout",
     "output_type": "stream",
     "text": [
      "Metrics of GradientBoostingClassifier:\n",
      "Score: 0.8504983388704319\n",
      "Confusion Matrix: [[127  23]\n",
      " [ 22 129]]\n",
      "Classification Report:               precision    recall  f1-score   support\n",
      "\n",
      "           0       0.85      0.85      0.85       150\n",
      "           1       0.85      0.85      0.85       151\n",
      "\n",
      "    accuracy                           0.85       301\n",
      "   macro avg       0.85      0.85      0.85       301\n",
      "weighted avg       0.85      0.85      0.85       301\n",
      "\n"
     ]
    }
   ],
   "source": [
    "dtc=DecisionTreeClassifier()\n",
    "dtc.fit(x_train,y_train)\n",
    "pred=dtc.predict(x_test)\n",
    "print('Metrics of GradientBoostingClassifier:')\n",
    "print('Score:',accuracy_score(y_test,pred))\n",
    "print('Confusion Matrix:',confusion_matrix(y_test,pred))\n",
    "print('Classification Report:',classification_report(y_test,pred))"
   ]
  },
  {
   "cell_type": "code",
   "execution_count": 86,
   "metadata": {},
   "outputs": [
    {
     "name": "stdout",
     "output_type": "stream",
     "text": [
      "Best Score: 0.8395539419087136\n",
      "Best Estimator: DecisionTreeClassifier(criterion='entropy', random_state=60)\n",
      "Best Parameter: {'criterion': 'entropy', 'random_state': 60, 'splitter': 'best'}\n"
     ]
    }
   ],
   "source": [
    "from sklearn.model_selection import GridSearchCV\n",
    "diff_para={'criterion':['gini', 'entropy'],'splitter':['best','random'],'random_state':[10,20,30,40,50,60,70]}\n",
    "grid=GridSearchCV(estimator=dtc,param_grid=diff_para)\n",
    "grid.fit(x_train,y_train)\n",
    "print('Best Score:',grid.best_score_)\n",
    "print('Best Estimator:',grid.best_estimator_)\n",
    "print('Best Parameter:',grid.best_params_)"
   ]
  },
  {
   "cell_type": "code",
   "execution_count": 92,
   "metadata": {
    "scrolled": true
   },
   "outputs": [
    {
     "name": "stdout",
     "output_type": "stream",
     "text": [
      "Metrics of GradientBoostingClassifier:\n",
      "Score: 0.867109634551495\n",
      "Confusion Matrix: [[131  19]\n",
      " [ 21 130]]\n",
      "Classification Report:               precision    recall  f1-score   support\n",
      "\n",
      "           0       0.86      0.87      0.87       150\n",
      "           1       0.87      0.86      0.87       151\n",
      "\n",
      "    accuracy                           0.87       301\n",
      "   macro avg       0.87      0.87      0.87       301\n",
      "weighted avg       0.87      0.87      0.87       301\n",
      "\n"
     ]
    }
   ],
   "source": [
    "dtc=DecisionTreeClassifier(criterion='entropy', random_state=60,splitter='best')\n",
    "dtc.fit(x_train,y_train)\n",
    "pred=dtc.predict(x_test)\n",
    "print('Metrics of GradientBoostingClassifier:')\n",
    "print('Score:',accuracy_score(y_test,pred))\n",
    "print('Confusion Matrix:',confusion_matrix(y_test,pred))\n",
    "print('Classification Report:',classification_report(y_test,pred))"
   ]
  },
  {
   "cell_type": "code",
   "execution_count": 93,
   "metadata": {
    "scrolled": false
   },
   "outputs": [
    {
     "data": {
      "image/png": "[encoded data removed]",
      "text/plain": [
       "<Figure size 432x288 with 1 Axes>"
      ]
     },
     "metadata": {
      "needs_background": "light"
     },
     "output_type": "display_data"
    },
    {
     "name": "stdout",
     "output_type": "stream",
     "text": [
      "Score: 0.867130242825607\n"
     ]
    }
   ],
   "source": [
    "#Auc Roc curve\n",
    "\n",
    "from sklearn.metrics import roc_auc_score\n",
    "#Predicting the probability of having 0 in the x-test\n",
    "y_pred_prob=dtc.predict_proba(x_test)[:,1]\n",
    "y_pred_prob\n",
    "\n",
    "#Visualising\n",
    "from sklearn.metrics import roc_curve\n",
    "fpr,tpr,thresholds=roc_curve(y_test,y_pred_prob)\n",
    "\n",
    "plt.plot([0,1],[0,1],'k--')\n",
    "plt.plot(fpr,tpr,label='KNeighborsClassifier')\n",
    "plt.xlabel('False Positive Rate')\n",
    "plt.ylabel('True Positive Rate')\n",
    "plt.show()\n",
    "auc_score=roc_auc_score(y_test,dtc.predict(x_test))\n",
    "print('Score:',auc_score)"
   ]
  },
  {
   "cell_type": "code",
   "execution_count": null,
   "metadata": {},
   "outputs": [],
   "source": [
    "We can see the accuracy increased from 85 to 87% by tuning the decision Tree Classifier"
   ]
  },
  {
   "cell_type": "code",
   "execution_count": 68,
   "metadata": {
    "scrolled": true
   },
   "outputs": [
    {
     "name": "stdout",
     "output_type": "stream",
     "text": [
      "Metrics of GradientBoostingClassifier:\n",
      "Score: 0.9136212624584718\n",
      "Confusion Matrix: [[133  17]\n",
      " [  9 142]]\n",
      "Classification Report:               precision    recall  f1-score   support\n",
      "\n",
      "           0       0.94      0.89      0.91       150\n",
      "           1       0.89      0.94      0.92       151\n",
      "\n",
      "    accuracy                           0.91       301\n",
      "   macro avg       0.91      0.91      0.91       301\n",
      "weighted avg       0.91      0.91      0.91       301\n",
      "\n"
     ]
    }
   ],
   "source": [
    "gc=GradientBoostingClassifier()\n",
    "gc.fit(x_train,y_train)\n",
    "predr=gc.predict(x_test)\n",
    "print('Metrics of GradientBoostingClassifier:')\n",
    "print('Score:',accuracy_score(y_test,predr))\n",
    "print('Confusion Matrix:',confusion_matrix(y_test,predr))\n",
    "print('Classification Report:',classification_report(y_test,predr))\n"
   ]
  },
  {
   "cell_type": "code",
   "execution_count": 71,
   "metadata": {
    "scrolled": false
   },
   "outputs": [
    {
     "name": "stdout",
     "output_type": "stream",
     "text": [
      "Fitting 5 folds for each of 72 candidates, totalling 360 fits\n",
      "[CV] END init=estimator, max_features=auto, max_leaf_nodes=0, n_estimators=100, random_state=18; total time=   0.0s\n",
      "[CV] END init=estimator, max_features=auto, max_leaf_nodes=0, n_estimators=100, random_state=18; total time=   0.0s\n",
      "[CV] END init=estimator, max_features=auto, max_leaf_nodes=0, n_estimators=100, random_state=18; total time=   0.0s\n",
      "[CV] END init=estimator, max_features=auto, max_leaf_nodes=0, n_estimators=100, random_state=18; total time=   0.0s\n",
      "[CV] END init=estimator, max_features=auto, max_leaf_nodes=0, n_estimators=100, random_state=18; total time=   0.0s\n",
      "[CV] END init=estimator, max_features=auto, max_leaf_nodes=0, n_estimators=200, random_state=18; total time=   0.0s\n",
      "[CV] END init=estimator, max_features=auto, max_leaf_nodes=0, n_estimators=200, random_state=18; total time=   0.0s\n",
      "[CV] END init=estimator, max_features=auto, max_leaf_nodes=0, n_estimators=200, random_state=18; total time=   0.0s\n",
      "[CV] END init=estimator, max_features=auto, max_leaf_nodes=0, n_estimators=200, random_state=18; total time=   0.0s\n",
      "[CV] END init=estimator, max_features=auto, max_leaf_nodes=0, n_estimators=200, random_state=18; total time=   0.0s\n",
      "[CV] END init=estimator, max_features=auto, max_leaf_nodes=0, n_estimators=500, random_state=18; total time=   0.0s\n",
      "[CV] END init=estimator, max_features=auto, max_leaf_nodes=0, n_estimators=500, random_state=18; total time=   0.0s\n",
      "[CV] END init=estimator, max_features=auto, max_leaf_nodes=0, n_estimators=500, random_state=18; total time=   0.0s\n",
      "[CV] END init=estimator, max_features=auto, max_leaf_nodes=0, n_estimators=500, random_state=18; total time=   0.0s\n",
      "[CV] END init=estimator, max_features=auto, max_leaf_nodes=0, n_estimators=500, random_state=18; total time=   0.0s\n",
      "[CV] END init=estimator, max_features=auto, max_leaf_nodes=5, n_estimators=100, random_state=18; total time=   0.0s\n",
      "[CV] END init=estimator, max_features=auto, max_leaf_nodes=5, n_estimators=100, random_state=18; total time=   0.0s\n",
      "[CV] END init=estimator, max_features=auto, max_leaf_nodes=5, n_estimators=100, random_state=18; total time=   0.0s\n",
      "[CV] END init=estimator, max_features=auto, max_leaf_nodes=5, n_estimators=100, random_state=18; total time=   0.0s\n",
      "[CV] END init=estimator, max_features=auto, max_leaf_nodes=5, n_estimators=100, random_state=18; total time=   0.0s\n",
      "[CV] END init=estimator, max_features=auto, max_leaf_nodes=5, n_estimators=200, random_state=18; total time=   0.0s\n",
      "[CV] END init=estimator, max_features=auto, max_leaf_nodes=5, n_estimators=200, random_state=18; total time=   0.0s\n",
      "[CV] END init=estimator, max_features=auto, max_leaf_nodes=5, n_estimators=200, random_state=18; total time=   0.0s\n",
      "[CV] END init=estimator, max_features=auto, max_leaf_nodes=5, n_estimators=200, random_state=18; total time=   0.0s\n",
      "[CV] END init=estimator, max_features=auto, max_leaf_nodes=5, n_estimators=200, random_state=18; total time=   0.0s\n",
      "[CV] END init=estimator, max_features=auto, max_leaf_nodes=5, n_estimators=500, random_state=18; total time=   0.0s\n",
      "[CV] END init=estimator, max_features=auto, max_leaf_nodes=5, n_estimators=500, random_state=18; total time=   0.0s\n",
      "[CV] END init=estimator, max_features=auto, max_leaf_nodes=5, n_estimators=500, random_state=18; total time=   0.0s\n",
      "[CV] END init=estimator, max_features=auto, max_leaf_nodes=5, n_estimators=500, random_state=18; total time=   0.0s\n",
      "[CV] END init=estimator, max_features=auto, max_leaf_nodes=5, n_estimators=500, random_state=18; total time=   0.0s\n",
      "[CV] END init=estimator, max_features=auto, max_leaf_nodes=10, n_estimators=100, random_state=18; total time=   0.0s\n",
      "[CV] END init=estimator, max_features=auto, max_leaf_nodes=10, n_estimators=100, random_state=18; total time=   0.0s\n",
      "[CV] END init=estimator, max_features=auto, max_leaf_nodes=10, n_estimators=100, random_state=18; total time=   0.0s\n",
      "[CV] END init=estimator, max_features=auto, max_leaf_nodes=10, n_estimators=100, random_state=18; total time=   0.0s\n",
      "[CV] END init=estimator, max_features=auto, max_leaf_nodes=10, n_estimators=100, random_state=18; total time=   0.0s\n",
      "[CV] END init=estimator, max_features=auto, max_leaf_nodes=10, n_estimators=200, random_state=18; total time=   0.0s\n",
      "[CV] END init=estimator, max_features=auto, max_leaf_nodes=10, n_estimators=200, random_state=18; total time=   0.0s\n",
      "[CV] END init=estimator, max_features=auto, max_leaf_nodes=10, n_estimators=200, random_state=18; total time=   0.0s\n",
      "[CV] END init=estimator, max_features=auto, max_leaf_nodes=10, n_estimators=200, random_state=18; total time=   0.0s\n",
      "[CV] END init=estimator, max_features=auto, max_leaf_nodes=10, n_estimators=200, random_state=18; total time=   0.0s\n",
      "[CV] END init=estimator, max_features=auto, max_leaf_nodes=10, n_estimators=500, random_state=18; total time=   0.0s\n",
      "[CV] END init=estimator, max_features=auto, max_leaf_nodes=10, n_estimators=500, random_state=18; total time=   0.0s\n",
      "[CV] END init=estimator, max_features=auto, max_leaf_nodes=10, n_estimators=500, random_state=18; total time=   0.0s\n",
      "[CV] END init=estimator, max_features=auto, max_leaf_nodes=10, n_estimators=500, random_state=18; total time=   0.0s\n",
      "[CV] END init=estimator, max_features=auto, max_leaf_nodes=10, n_estimators=500, random_state=18; total time=   0.0s\n",
      "[CV] END init=estimator, max_features=auto, max_leaf_nodes=15, n_estimators=100, random_state=18; total time=   0.0s\n",
      "[CV] END init=estimator, max_features=auto, max_leaf_nodes=15, n_estimators=100, random_state=18; total time=   0.0s\n",
      "[CV] END init=estimator, max_features=auto, max_leaf_nodes=15, n_estimators=100, random_state=18; total time=   0.0s\n",
      "[CV] END init=estimator, max_features=auto, max_leaf_nodes=15, n_estimators=100, random_state=18; total time=   0.0s\n",
      "[CV] END init=estimator, max_features=auto, max_leaf_nodes=15, n_estimators=100, random_state=18; total time=   0.0s\n",
      "[CV] END init=estimator, max_features=auto, max_leaf_nodes=15, n_estimators=200, random_state=18; total time=   0.0s\n",
      "[CV] END init=estimator, max_features=auto, max_leaf_nodes=15, n_estimators=200, random_state=18; total time=   0.0s\n",
      "[CV] END init=estimator, max_features=auto, max_leaf_nodes=15, n_estimators=200, random_state=18; total time=   0.0s\n",
      "[CV] END init=estimator, max_features=auto, max_leaf_nodes=15, n_estimators=200, random_state=18; total time=   0.0s\n",
      "[CV] END init=estimator, max_features=auto, max_leaf_nodes=15, n_estimators=200, random_state=18; total time=   0.0s\n",
      "[CV] END init=estimator, max_features=auto, max_leaf_nodes=15, n_estimators=500, random_state=18; total time=   0.0s\n",
      "[CV] END init=estimator, max_features=auto, max_leaf_nodes=15, n_estimators=500, random_state=18; total time=   0.0s\n",
      "[CV] END init=estimator, max_features=auto, max_leaf_nodes=15, n_estimators=500, random_state=18; total time=   0.0s\n",
      "[CV] END init=estimator, max_features=auto, max_leaf_nodes=15, n_estimators=500, random_state=18; total time=   0.0s\n",
      "[CV] END init=estimator, max_features=auto, max_leaf_nodes=15, n_estimators=500, random_state=18; total time=   0.0s\n",
      "[CV] END init=estimator, max_features=sqrt, max_leaf_nodes=0, n_estimators=100, random_state=18; total time=   0.0s\n",
      "[CV] END init=estimator, max_features=sqrt, max_leaf_nodes=0, n_estimators=100, random_state=18; total time=   0.0s\n",
      "[CV] END init=estimator, max_features=sqrt, max_leaf_nodes=0, n_estimators=100, random_state=18; total time=   0.0s\n",
      "[CV] END init=estimator, max_features=sqrt, max_leaf_nodes=0, n_estimators=100, random_state=18; total time=   0.0s\n",
      "[CV] END init=estimator, max_features=sqrt, max_leaf_nodes=0, n_estimators=100, random_state=18; total time=   0.0s\n",
      "[CV] END init=estimator, max_features=sqrt, max_leaf_nodes=0, n_estimators=200, random_state=18; total time=   0.0s\n",
      "[CV] END init=estimator, max_features=sqrt, max_leaf_nodes=0, n_estimators=200, random_state=18; total time=   0.0s\n",
      "[CV] END init=estimator, max_features=sqrt, max_leaf_nodes=0, n_estimators=200, random_state=18; total time=   0.0s\n",
      "[CV] END init=estimator, max_features=sqrt, max_leaf_nodes=0, n_estimators=200, random_state=18; total time=   0.0s\n",
      "[CV] END init=estimator, max_features=sqrt, max_leaf_nodes=0, n_estimators=200, random_state=18; total time=   0.0s\n",
      "[CV] END init=estimator, max_features=sqrt, max_leaf_nodes=0, n_estimators=500, random_state=18; total time=   0.0s\n",
      "[CV] END init=estimator, max_features=sqrt, max_leaf_nodes=0, n_estimators=500, random_state=18; total time=   0.0s\n",
      "[CV] END init=estimator, max_features=sqrt, max_leaf_nodes=0, n_estimators=500, random_state=18; total time=   0.0s\n",
      "[CV] END init=estimator, max_features=sqrt, max_leaf_nodes=0, n_estimators=500, random_state=18; total time=   0.0s\n",
      "[CV] END init=estimator, max_features=sqrt, max_leaf_nodes=0, n_estimators=500, random_state=18; total time=   0.0s\n",
      "[CV] END init=estimator, max_features=sqrt, max_leaf_nodes=5, n_estimators=100, random_state=18; total time=   0.0s\n",
      "[CV] END init=estimator, max_features=sqrt, max_leaf_nodes=5, n_estimators=100, random_state=18; total time=   0.0s\n",
      "[CV] END init=estimator, max_features=sqrt, max_leaf_nodes=5, n_estimators=100, random_state=18; total time=   0.0s\n",
      "[CV] END init=estimator, max_features=sqrt, max_leaf_nodes=5, n_estimators=100, random_state=18; total time=   0.0s\n",
      "[CV] END init=estimator, max_features=sqrt, max_leaf_nodes=5, n_estimators=100, random_state=18; total time=   0.0s\n",
      "[CV] END init=estimator, max_features=sqrt, max_leaf_nodes=5, n_estimators=200, random_state=18; total time=   0.0s\n",
      "[CV] END init=estimator, max_features=sqrt, max_leaf_nodes=5, n_estimators=200, random_state=18; total time=   0.0s\n",
      "[CV] END init=estimator, max_features=sqrt, max_leaf_nodes=5, n_estimators=200, random_state=18; total time=   0.0s\n",
      "[CV] END init=estimator, max_features=sqrt, max_leaf_nodes=5, n_estimators=200, random_state=18; total time=   0.0s\n",
      "[CV] END init=estimator, max_features=sqrt, max_leaf_nodes=5, n_estimators=200, random_state=18; total time=   0.0s\n",
      "[CV] END init=estimator, max_features=sqrt, max_leaf_nodes=5, n_estimators=500, random_state=18; total time=   0.0s\n",
      "[CV] END init=estimator, max_features=sqrt, max_leaf_nodes=5, n_estimators=500, random_state=18; total time=   0.0s\n",
      "[CV] END init=estimator, max_features=sqrt, max_leaf_nodes=5, n_estimators=500, random_state=18; total time=   0.0s\n",
      "[CV] END init=estimator, max_features=sqrt, max_leaf_nodes=5, n_estimators=500, random_state=18; total time=   0.0s\n",
      "[CV] END init=estimator, max_features=sqrt, max_leaf_nodes=5, n_estimators=500, random_state=18; total time=   0.0s\n",
      "[CV] END init=estimator, max_features=sqrt, max_leaf_nodes=10, n_estimators=100, random_state=18; total time=   0.0s\n",
      "[CV] END init=estimator, max_features=sqrt, max_leaf_nodes=10, n_estimators=100, random_state=18; total time=   0.0s\n",
      "[CV] END init=estimator, max_features=sqrt, max_leaf_nodes=10, n_estimators=100, random_state=18; total time=   0.0s\n",
      "[CV] END init=estimator, max_features=sqrt, max_leaf_nodes=10, n_estimators=100, random_state=18; total time=   0.0s\n",
      "[CV] END init=estimator, max_features=sqrt, max_leaf_nodes=10, n_estimators=100, random_state=18; total time=   0.0s\n",
      "[CV] END init=estimator, max_features=sqrt, max_leaf_nodes=10, n_estimators=200, random_state=18; total time=   0.0s\n",
      "[CV] END init=estimator, max_features=sqrt, max_leaf_nodes=10, n_estimators=200, random_state=18; total time=   0.0s\n",
      "[CV] END init=estimator, max_features=sqrt, max_leaf_nodes=10, n_estimators=200, random_state=18; total time=   0.0s\n",
      "[CV] END init=estimator, max_features=sqrt, max_leaf_nodes=10, n_estimators=200, random_state=18; total time=   0.0s\n",
      "[CV] END init=estimator, max_features=sqrt, max_leaf_nodes=10, n_estimators=200, random_state=18; total time=   0.0s\n",
      "[CV] END init=estimator, max_features=sqrt, max_leaf_nodes=10, n_estimators=500, random_state=18; total time=   0.0s\n",
      "[CV] END init=estimator, max_features=sqrt, max_leaf_nodes=10, n_estimators=500, random_state=18; total time=   0.0s\n",
      "[CV] END init=estimator, max_features=sqrt, max_leaf_nodes=10, n_estimators=500, random_state=18; total time=   0.0s\n",
      "[CV] END init=estimator, max_features=sqrt, max_leaf_nodes=10, n_estimators=500, random_state=18; total time=   0.0s\n",
      "[CV] END init=estimator, max_features=sqrt, max_leaf_nodes=10, n_estimators=500, random_state=18; total time=   0.0s\n",
      "[CV] END init=estimator, max_features=sqrt, max_leaf_nodes=15, n_estimators=100, random_state=18; total time=   0.0s\n",
      "[CV] END init=estimator, max_features=sqrt, max_leaf_nodes=15, n_estimators=100, random_state=18; total time=   0.0s\n",
      "[CV] END init=estimator, max_features=sqrt, max_leaf_nodes=15, n_estimators=100, random_state=18; total time=   0.0s\n",
      "[CV] END init=estimator, max_features=sqrt, max_leaf_nodes=15, n_estimators=100, random_state=18; total time=   0.0s\n",
      "[CV] END init=estimator, max_features=sqrt, max_leaf_nodes=15, n_estimators=100, random_state=18; total time=   0.0s\n",
      "[CV] END init=estimator, max_features=sqrt, max_leaf_nodes=15, n_estimators=200, random_state=18; total time=   0.0s\n",
      "[CV] END init=estimator, max_features=sqrt, max_leaf_nodes=15, n_estimators=200, random_state=18; total time=   0.0s\n",
      "[CV] END init=estimator, max_features=sqrt, max_leaf_nodes=15, n_estimators=200, random_state=18; total time=   0.0s\n",
      "[CV] END init=estimator, max_features=sqrt, max_leaf_nodes=15, n_estimators=200, random_state=18; total time=   0.0s\n",
      "[CV] END init=estimator, max_features=sqrt, max_leaf_nodes=15, n_estimators=200, random_state=18; total time=   0.0s\n",
      "[CV] END init=estimator, max_features=sqrt, max_leaf_nodes=15, n_estimators=500, random_state=18; total time=   0.0s\n",
      "[CV] END init=estimator, max_features=sqrt, max_leaf_nodes=15, n_estimators=500, random_state=18; total time=   0.0s\n",
      "[CV] END init=estimator, max_features=sqrt, max_leaf_nodes=15, n_estimators=500, random_state=18; total time=   0.0s\n",
      "[CV] END init=estimator, max_features=sqrt, max_leaf_nodes=15, n_estimators=500, random_state=18; total time=   0.0s\n",
      "[CV] END init=estimator, max_features=sqrt, max_leaf_nodes=15, n_estimators=500, random_state=18; total time=   0.0s\n",
      "[CV] END init=estimator, max_features=log2, max_leaf_nodes=0, n_estimators=100, random_state=18; total time=   0.0s\n",
      "[CV] END init=estimator, max_features=log2, max_leaf_nodes=0, n_estimators=100, random_state=18; total time=   0.0s\n",
      "[CV] END init=estimator, max_features=log2, max_leaf_nodes=0, n_estimators=100, random_state=18; total time=   0.0s\n",
      "[CV] END init=estimator, max_features=log2, max_leaf_nodes=0, n_estimators=100, random_state=18; total time=   0.0s\n",
      "[CV] END init=estimator, max_features=log2, max_leaf_nodes=0, n_estimators=100, random_state=18; total time=   0.0s\n",
      "[CV] END init=estimator, max_features=log2, max_leaf_nodes=0, n_estimators=200, random_state=18; total time=   0.0s\n",
      "[CV] END init=estimator, max_features=log2, max_leaf_nodes=0, n_estimators=200, random_state=18; total time=   0.0s\n",
      "[CV] END init=estimator, max_features=log2, max_leaf_nodes=0, n_estimators=200, random_state=18; total time=   0.0s\n",
      "[CV] END init=estimator, max_features=log2, max_leaf_nodes=0, n_estimators=200, random_state=18; total time=   0.0s\n",
      "[CV] END init=estimator, max_features=log2, max_leaf_nodes=0, n_estimators=200, random_state=18; total time=   0.0s\n",
      "[CV] END init=estimator, max_features=log2, max_leaf_nodes=0, n_estimators=500, random_state=18; total time=   0.0s\n",
      "[CV] END init=estimator, max_features=log2, max_leaf_nodes=0, n_estimators=500, random_state=18; total time=   0.0s\n",
      "[CV] END init=estimator, max_features=log2, max_leaf_nodes=0, n_estimators=500, random_state=18; total time=   0.0s\n",
      "[CV] END init=estimator, max_features=log2, max_leaf_nodes=0, n_estimators=500, random_state=18; total time=   0.0s\n",
      "[CV] END init=estimator, max_features=log2, max_leaf_nodes=0, n_estimators=500, random_state=18; total time=   0.0s\n",
      "[CV] END init=estimator, max_features=log2, max_leaf_nodes=5, n_estimators=100, random_state=18; total time=   0.0s\n",
      "[CV] END init=estimator, max_features=log2, max_leaf_nodes=5, n_estimators=100, random_state=18; total time=   0.0s\n",
      "[CV] END init=estimator, max_features=log2, max_leaf_nodes=5, n_estimators=100, random_state=18; total time=   0.0s\n",
      "[CV] END init=estimator, max_features=log2, max_leaf_nodes=5, n_estimators=100, random_state=18; total time=   0.0s\n",
      "[CV] END init=estimator, max_features=log2, max_leaf_nodes=5, n_estimators=100, random_state=18; total time=   0.0s\n",
      "[CV] END init=estimator, max_features=log2, max_leaf_nodes=5, n_estimators=200, random_state=18; total time=   0.0s\n",
      "[CV] END init=estimator, max_features=log2, max_leaf_nodes=5, n_estimators=200, random_state=18; total time=   0.0s\n",
      "[CV] END init=estimator, max_features=log2, max_leaf_nodes=5, n_estimators=200, random_state=18; total time=   0.0s\n",
      "[CV] END init=estimator, max_features=log2, max_leaf_nodes=5, n_estimators=200, random_state=18; total time=   0.0s\n",
      "[CV] END init=estimator, max_features=log2, max_leaf_nodes=5, n_estimators=200, random_state=18; total time=   0.0s\n",
      "[CV] END init=estimator, max_features=log2, max_leaf_nodes=5, n_estimators=500, random_state=18; total time=   0.0s\n",
      "[CV] END init=estimator, max_features=log2, max_leaf_nodes=5, n_estimators=500, random_state=18; total time=   0.0s\n",
      "[CV] END init=estimator, max_features=log2, max_leaf_nodes=5, n_estimators=500, random_state=18; total time=   0.0s\n",
      "[CV] END init=estimator, max_features=log2, max_leaf_nodes=5, n_estimators=500, random_state=18; total time=   0.0s\n",
      "[CV] END init=estimator, max_features=log2, max_leaf_nodes=5, n_estimators=500, random_state=18; total time=   0.0s\n",
      "[CV] END init=estimator, max_features=log2, max_leaf_nodes=10, n_estimators=100, random_state=18; total time=   0.0s\n",
      "[CV] END init=estimator, max_features=log2, max_leaf_nodes=10, n_estimators=100, random_state=18; total time=   0.0s\n",
      "[CV] END init=estimator, max_features=log2, max_leaf_nodes=10, n_estimators=100, random_state=18; total time=   0.0s\n",
      "[CV] END init=estimator, max_features=log2, max_leaf_nodes=10, n_estimators=100, random_state=18; total time=   0.0s\n",
      "[CV] END init=estimator, max_features=log2, max_leaf_nodes=10, n_estimators=100, random_state=18; total time=   0.0s\n",
      "[CV] END init=estimator, max_features=log2, max_leaf_nodes=10, n_estimators=200, random_state=18; total time=   0.0s\n",
      "[CV] END init=estimator, max_features=log2, max_leaf_nodes=10, n_estimators=200, random_state=18; total time=   0.0s\n",
      "[CV] END init=estimator, max_features=log2, max_leaf_nodes=10, n_estimators=200, random_state=18; total time=   0.0s\n",
      "[CV] END init=estimator, max_features=log2, max_leaf_nodes=10, n_estimators=200, random_state=18; total time=   0.0s\n",
      "[CV] END init=estimator, max_features=log2, max_leaf_nodes=10, n_estimators=200, random_state=18; total time=   0.0s\n",
      "[CV] END init=estimator, max_features=log2, max_leaf_nodes=10, n_estimators=500, random_state=18; total time=   0.0s\n",
      "[CV] END init=estimator, max_features=log2, max_leaf_nodes=10, n_estimators=500, random_state=18; total time=   0.0s\n",
      "[CV] END init=estimator, max_features=log2, max_leaf_nodes=10, n_estimators=500, random_state=18; total time=   0.0s\n",
      "[CV] END init=estimator, max_features=log2, max_leaf_nodes=10, n_estimators=500, random_state=18; total time=   0.0s\n",
      "[CV] END init=estimator, max_features=log2, max_leaf_nodes=10, n_estimators=500, random_state=18; total time=   0.0s\n",
      "[CV] END init=estimator, max_features=log2, max_leaf_nodes=15, n_estimators=100, random_state=18; total time=   0.0s\n",
      "[CV] END init=estimator, max_features=log2, max_leaf_nodes=15, n_estimators=100, random_state=18; total time=   0.0s\n",
      "[CV] END init=estimator, max_features=log2, max_leaf_nodes=15, n_estimators=100, random_state=18; total time=   0.0s\n",
      "[CV] END init=estimator, max_features=log2, max_leaf_nodes=15, n_estimators=100, random_state=18; total time=   0.0s\n",
      "[CV] END init=estimator, max_features=log2, max_leaf_nodes=15, n_estimators=100, random_state=18; total time=   0.0s\n",
      "[CV] END init=estimator, max_features=log2, max_leaf_nodes=15, n_estimators=200, random_state=18; total time=   0.0s\n",
      "[CV] END init=estimator, max_features=log2, max_leaf_nodes=15, n_estimators=200, random_state=18; total time=   0.0s\n",
      "[CV] END init=estimator, max_features=log2, max_leaf_nodes=15, n_estimators=200, random_state=18; total time=   0.0s\n",
      "[CV] END init=estimator, max_features=log2, max_leaf_nodes=15, n_estimators=200, random_state=18; total time=   0.0s\n",
      "[CV] END init=estimator, max_features=log2, max_leaf_nodes=15, n_estimators=200, random_state=18; total time=   0.0s\n",
      "[CV] END init=estimator, max_features=log2, max_leaf_nodes=15, n_estimators=500, random_state=18; total time=   0.0s\n",
      "[CV] END init=estimator, max_features=log2, max_leaf_nodes=15, n_estimators=500, random_state=18; total time=   0.0s\n",
      "[CV] END init=estimator, max_features=log2, max_leaf_nodes=15, n_estimators=500, random_state=18; total time=   0.0s\n",
      "[CV] END init=estimator, max_features=log2, max_leaf_nodes=15, n_estimators=500, random_state=18; total time=   0.0s\n",
      "[CV] END init=estimator, max_features=log2, max_leaf_nodes=15, n_estimators=500, random_state=18; total time=   0.0s\n",
      "[CV] END init=zero, max_features=auto, max_leaf_nodes=0, n_estimators=100, random_state=18; total time=   0.0s\n",
      "[CV] END init=zero, max_features=auto, max_leaf_nodes=0, n_estimators=100, random_state=18; total time=   0.0s\n",
      "[CV] END init=zero, max_features=auto, max_leaf_nodes=0, n_estimators=100, random_state=18; total time=   0.0s\n",
      "[CV] END init=zero, max_features=auto, max_leaf_nodes=0, n_estimators=100, random_state=18; total time=   0.0s\n",
      "[CV] END init=zero, max_features=auto, max_leaf_nodes=0, n_estimators=100, random_state=18; total time=   0.0s\n",
      "[CV] END init=zero, max_features=auto, max_leaf_nodes=0, n_estimators=200, random_state=18; total time=   0.0s\n",
      "[CV] END init=zero, max_features=auto, max_leaf_nodes=0, n_estimators=200, random_state=18; total time=   0.0s\n",
      "[CV] END init=zero, max_features=auto, max_leaf_nodes=0, n_estimators=200, random_state=18; total time=   0.0s\n",
      "[CV] END init=zero, max_features=auto, max_leaf_nodes=0, n_estimators=200, random_state=18; total time=   0.0s\n",
      "[CV] END init=zero, max_features=auto, max_leaf_nodes=0, n_estimators=200, random_state=18; total time=   0.0s\n",
      "[CV] END init=zero, max_features=auto, max_leaf_nodes=0, n_estimators=500, random_state=18; total time=   0.0s\n",
      "[CV] END init=zero, max_features=auto, max_leaf_nodes=0, n_estimators=500, random_state=18; total time=   0.0s\n",
      "[CV] END init=zero, max_features=auto, max_leaf_nodes=0, n_estimators=500, random_state=18; total time=   0.0s\n",
      "[CV] END init=zero, max_features=auto, max_leaf_nodes=0, n_estimators=500, random_state=18; total time=   0.0s\n",
      "[CV] END init=zero, max_features=auto, max_leaf_nodes=0, n_estimators=500, random_state=18; total time=   0.0s\n",
      "[CV] END init=zero, max_features=auto, max_leaf_nodes=5, n_estimators=100, random_state=18; total time=   0.4s\n",
      "[CV] END init=zero, max_features=auto, max_leaf_nodes=5, n_estimators=100, random_state=18; total time=   0.3s\n",
      "[CV] END init=zero, max_features=auto, max_leaf_nodes=5, n_estimators=100, random_state=18; total time=   0.2s\n",
      "[CV] END init=zero, max_features=auto, max_leaf_nodes=5, n_estimators=100, random_state=18; total time=   0.2s\n",
      "[CV] END init=zero, max_features=auto, max_leaf_nodes=5, n_estimators=100, random_state=18; total time=   0.2s\n",
      "[CV] END init=zero, max_features=auto, max_leaf_nodes=5, n_estimators=200, random_state=18; total time=   0.5s\n",
      "[CV] END init=zero, max_features=auto, max_leaf_nodes=5, n_estimators=200, random_state=18; total time=   0.7s\n",
      "[CV] END init=zero, max_features=auto, max_leaf_nodes=5, n_estimators=200, random_state=18; total time=   0.7s\n",
      "[CV] END init=zero, max_features=auto, max_leaf_nodes=5, n_estimators=200, random_state=18; total time=   0.5s\n",
      "[CV] END init=zero, max_features=auto, max_leaf_nodes=5, n_estimators=200, random_state=18; total time=   0.6s\n",
      "[CV] END init=zero, max_features=auto, max_leaf_nodes=5, n_estimators=500, random_state=18; total time=   1.5s\n",
      "[CV] END init=zero, max_features=auto, max_leaf_nodes=5, n_estimators=500, random_state=18; total time=   1.6s\n",
      "[CV] END init=zero, max_features=auto, max_leaf_nodes=5, n_estimators=500, random_state=18; total time=   1.4s\n",
      "[CV] END init=zero, max_features=auto, max_leaf_nodes=5, n_estimators=500, random_state=18; total time=   1.4s\n",
      "[CV] END init=zero, max_features=auto, max_leaf_nodes=5, n_estimators=500, random_state=18; total time=   1.6s\n",
      "[CV] END init=zero, max_features=auto, max_leaf_nodes=10, n_estimators=100, random_state=18; total time=   0.3s\n",
      "[CV] END init=zero, max_features=auto, max_leaf_nodes=10, n_estimators=100, random_state=18; total time=   0.2s\n",
      "[CV] END init=zero, max_features=auto, max_leaf_nodes=10, n_estimators=100, random_state=18; total time=   0.3s\n",
      "[CV] END init=zero, max_features=auto, max_leaf_nodes=10, n_estimators=100, random_state=18; total time=   0.2s\n",
      "[CV] END init=zero, max_features=auto, max_leaf_nodes=10, n_estimators=100, random_state=18; total time=   0.4s\n",
      "[CV] END init=zero, max_features=auto, max_leaf_nodes=10, n_estimators=200, random_state=18; total time=   0.7s\n",
      "[CV] END init=zero, max_features=auto, max_leaf_nodes=10, n_estimators=200, random_state=18; total time=   0.6s\n",
      "[CV] END init=zero, max_features=auto, max_leaf_nodes=10, n_estimators=200, random_state=18; total time=   0.6s\n",
      "[CV] END init=zero, max_features=auto, max_leaf_nodes=10, n_estimators=200, random_state=18; total time=   0.6s\n",
      "[CV] END init=zero, max_features=auto, max_leaf_nodes=10, n_estimators=200, random_state=18; total time=   0.6s\n",
      "[CV] END init=zero, max_features=auto, max_leaf_nodes=10, n_estimators=500, random_state=18; total time=   1.6s\n",
      "[CV] END init=zero, max_features=auto, max_leaf_nodes=10, n_estimators=500, random_state=18; total time=   1.7s\n",
      "[CV] END init=zero, max_features=auto, max_leaf_nodes=10, n_estimators=500, random_state=18; total time=   2.0s\n",
      "[CV] END init=zero, max_features=auto, max_leaf_nodes=10, n_estimators=500, random_state=18; total time=   1.7s\n",
      "[CV] END init=zero, max_features=auto, max_leaf_nodes=10, n_estimators=500, random_state=18; total time=   1.7s\n",
      "[CV] END init=zero, max_features=auto, max_leaf_nodes=15, n_estimators=100, random_state=18; total time=   0.3s\n",
      "[CV] END init=zero, max_features=auto, max_leaf_nodes=15, n_estimators=100, random_state=18; total time=   0.3s\n",
      "[CV] END init=zero, max_features=auto, max_leaf_nodes=15, n_estimators=100, random_state=18; total time=   0.3s\n",
      "[CV] END init=zero, max_features=auto, max_leaf_nodes=15, n_estimators=100, random_state=18; total time=   0.2s\n",
      "[CV] END init=zero, max_features=auto, max_leaf_nodes=15, n_estimators=100, random_state=18; total time=   0.2s\n",
      "[CV] END init=zero, max_features=auto, max_leaf_nodes=15, n_estimators=200, random_state=18; total time=   0.6s\n",
      "[CV] END init=zero, max_features=auto, max_leaf_nodes=15, n_estimators=200, random_state=18; total time=   0.7s\n",
      "[CV] END init=zero, max_features=auto, max_leaf_nodes=15, n_estimators=200, random_state=18; total time=   0.6s\n",
      "[CV] END init=zero, max_features=auto, max_leaf_nodes=15, n_estimators=200, random_state=18; total time=   0.6s\n",
      "[CV] END init=zero, max_features=auto, max_leaf_nodes=15, n_estimators=200, random_state=18; total time=   0.6s\n",
      "[CV] END init=zero, max_features=auto, max_leaf_nodes=15, n_estimators=500, random_state=18; total time=   1.8s\n",
      "[CV] END init=zero, max_features=auto, max_leaf_nodes=15, n_estimators=500, random_state=18; total time=   1.6s\n",
      "[CV] END init=zero, max_features=auto, max_leaf_nodes=15, n_estimators=500, random_state=18; total time=   1.6s\n",
      "[CV] END init=zero, max_features=auto, max_leaf_nodes=15, n_estimators=500, random_state=18; total time=   1.7s\n",
      "[CV] END init=zero, max_features=auto, max_leaf_nodes=15, n_estimators=500, random_state=18; total time=   1.6s\n",
      "[CV] END init=zero, max_features=sqrt, max_leaf_nodes=0, n_estimators=100, random_state=18; total time=   0.0s\n",
      "[CV] END init=zero, max_features=sqrt, max_leaf_nodes=0, n_estimators=100, random_state=18; total time=   0.0s\n",
      "[CV] END init=zero, max_features=sqrt, max_leaf_nodes=0, n_estimators=100, random_state=18; total time=   0.0s\n",
      "[CV] END init=zero, max_features=sqrt, max_leaf_nodes=0, n_estimators=100, random_state=18; total time=   0.0s\n",
      "[CV] END init=zero, max_features=sqrt, max_leaf_nodes=0, n_estimators=100, random_state=18; total time=   0.0s\n",
      "[CV] END init=zero, max_features=sqrt, max_leaf_nodes=0, n_estimators=200, random_state=18; total time=   0.0s\n",
      "[CV] END init=zero, max_features=sqrt, max_leaf_nodes=0, n_estimators=200, random_state=18; total time=   0.0s\n",
      "[CV] END init=zero, max_features=sqrt, max_leaf_nodes=0, n_estimators=200, random_state=18; total time=   0.0s\n",
      "[CV] END init=zero, max_features=sqrt, max_leaf_nodes=0, n_estimators=200, random_state=18; total time=   0.0s\n",
      "[CV] END init=zero, max_features=sqrt, max_leaf_nodes=0, n_estimators=200, random_state=18; total time=   0.0s\n",
      "[CV] END init=zero, max_features=sqrt, max_leaf_nodes=0, n_estimators=500, random_state=18; total time=   0.0s\n",
      "[CV] END init=zero, max_features=sqrt, max_leaf_nodes=0, n_estimators=500, random_state=18; total time=   0.0s\n",
      "[CV] END init=zero, max_features=sqrt, max_leaf_nodes=0, n_estimators=500, random_state=18; total time=   0.0s\n",
      "[CV] END init=zero, max_features=sqrt, max_leaf_nodes=0, n_estimators=500, random_state=18; total time=   0.0s\n",
      "[CV] END init=zero, max_features=sqrt, max_leaf_nodes=0, n_estimators=500, random_state=18; total time=   0.0s\n",
      "[CV] END init=zero, max_features=sqrt, max_leaf_nodes=5, n_estimators=100, random_state=18; total time=   0.0s\n",
      "[CV] END init=zero, max_features=sqrt, max_leaf_nodes=5, n_estimators=100, random_state=18; total time=   0.0s\n",
      "[CV] END init=zero, max_features=sqrt, max_leaf_nodes=5, n_estimators=100, random_state=18; total time=   0.1s\n",
      "[CV] END init=zero, max_features=sqrt, max_leaf_nodes=5, n_estimators=100, random_state=18; total time=   0.0s\n",
      "[CV] END init=zero, max_features=sqrt, max_leaf_nodes=5, n_estimators=100, random_state=18; total time=   0.0s\n",
      "[CV] END init=zero, max_features=sqrt, max_leaf_nodes=5, n_estimators=200, random_state=18; total time=   0.1s\n",
      "[CV] END init=zero, max_features=sqrt, max_leaf_nodes=5, n_estimators=200, random_state=18; total time=   0.2s\n",
      "[CV] END init=zero, max_features=sqrt, max_leaf_nodes=5, n_estimators=200, random_state=18; total time=   0.1s\n",
      "[CV] END init=zero, max_features=sqrt, max_leaf_nodes=5, n_estimators=200, random_state=18; total time=   0.1s\n",
      "[CV] END init=zero, max_features=sqrt, max_leaf_nodes=5, n_estimators=200, random_state=18; total time=   0.1s\n",
      "[CV] END init=zero, max_features=sqrt, max_leaf_nodes=5, n_estimators=500, random_state=18; total time=   0.6s\n",
      "[CV] END init=zero, max_features=sqrt, max_leaf_nodes=5, n_estimators=500, random_state=18; total time=   0.5s\n",
      "[CV] END init=zero, max_features=sqrt, max_leaf_nodes=5, n_estimators=500, random_state=18; total time=   0.5s\n",
      "[CV] END init=zero, max_features=sqrt, max_leaf_nodes=5, n_estimators=500, random_state=18; total time=   0.6s\n",
      "[CV] END init=zero, max_features=sqrt, max_leaf_nodes=5, n_estimators=500, random_state=18; total time=   0.6s\n",
      "[CV] END init=zero, max_features=sqrt, max_leaf_nodes=10, n_estimators=100, random_state=18; total time=   0.1s\n",
      "[CV] END init=zero, max_features=sqrt, max_leaf_nodes=10, n_estimators=100, random_state=18; total time=   0.1s\n",
      "[CV] END init=zero, max_features=sqrt, max_leaf_nodes=10, n_estimators=100, random_state=18; total time=   0.0s\n",
      "[CV] END init=zero, max_features=sqrt, max_leaf_nodes=10, n_estimators=100, random_state=18; total time=   0.0s\n",
      "[CV] END init=zero, max_features=sqrt, max_leaf_nodes=10, n_estimators=100, random_state=18; total time=   0.0s\n",
      "[CV] END init=zero, max_features=sqrt, max_leaf_nodes=10, n_estimators=200, random_state=18; total time=   0.2s\n",
      "[CV] END init=zero, max_features=sqrt, max_leaf_nodes=10, n_estimators=200, random_state=18; total time=   0.2s\n",
      "[CV] END init=zero, max_features=sqrt, max_leaf_nodes=10, n_estimators=200, random_state=18; total time=   0.2s\n",
      "[CV] END init=zero, max_features=sqrt, max_leaf_nodes=10, n_estimators=200, random_state=18; total time=   0.2s\n",
      "[CV] END init=zero, max_features=sqrt, max_leaf_nodes=10, n_estimators=200, random_state=18; total time=   0.2s\n",
      "[CV] END init=zero, max_features=sqrt, max_leaf_nodes=10, n_estimators=500, random_state=18; total time=   0.8s\n",
      "[CV] END init=zero, max_features=sqrt, max_leaf_nodes=10, n_estimators=500, random_state=18; total time=   1.0s\n",
      "[CV] END init=zero, max_features=sqrt, max_leaf_nodes=10, n_estimators=500, random_state=18; total time=   0.7s\n",
      "[CV] END init=zero, max_features=sqrt, max_leaf_nodes=10, n_estimators=500, random_state=18; total time=   0.6s\n",
      "[CV] END init=zero, max_features=sqrt, max_leaf_nodes=10, n_estimators=500, random_state=18; total time=   0.6s\n",
      "[CV] END init=zero, max_features=sqrt, max_leaf_nodes=15, n_estimators=100, random_state=18; total time=   0.0s\n",
      "[CV] END init=zero, max_features=sqrt, max_leaf_nodes=15, n_estimators=100, random_state=18; total time=   0.0s\n",
      "[CV] END init=zero, max_features=sqrt, max_leaf_nodes=15, n_estimators=100, random_state=18; total time=   0.0s\n",
      "[CV] END init=zero, max_features=sqrt, max_leaf_nodes=15, n_estimators=100, random_state=18; total time=   0.0s\n",
      "[CV] END init=zero, max_features=sqrt, max_leaf_nodes=15, n_estimators=100, random_state=18; total time=   0.0s\n",
      "[CV] END init=zero, max_features=sqrt, max_leaf_nodes=15, n_estimators=200, random_state=18; total time=   0.2s\n",
      "[CV] END init=zero, max_features=sqrt, max_leaf_nodes=15, n_estimators=200, random_state=18; total time=   0.2s\n",
      "[CV] END init=zero, max_features=sqrt, max_leaf_nodes=15, n_estimators=200, random_state=18; total time=   0.2s\n",
      "[CV] END init=zero, max_features=sqrt, max_leaf_nodes=15, n_estimators=200, random_state=18; total time=   0.2s\n",
      "[CV] END init=zero, max_features=sqrt, max_leaf_nodes=15, n_estimators=200, random_state=18; total time=   0.2s\n",
      "[CV] END init=zero, max_features=sqrt, max_leaf_nodes=15, n_estimators=500, random_state=18; total time=   0.5s\n",
      "[CV] END init=zero, max_features=sqrt, max_leaf_nodes=15, n_estimators=500, random_state=18; total time=   0.6s\n",
      "[CV] END init=zero, max_features=sqrt, max_leaf_nodes=15, n_estimators=500, random_state=18; total time=   0.6s\n",
      "[CV] END init=zero, max_features=sqrt, max_leaf_nodes=15, n_estimators=500, random_state=18; total time=   0.6s\n",
      "[CV] END init=zero, max_features=sqrt, max_leaf_nodes=15, n_estimators=500, random_state=18; total time=   1.1s\n",
      "[CV] END init=zero, max_features=log2, max_leaf_nodes=0, n_estimators=100, random_state=18; total time=   0.0s\n",
      "[CV] END init=zero, max_features=log2, max_leaf_nodes=0, n_estimators=100, random_state=18; total time=   0.0s\n",
      "[CV] END init=zero, max_features=log2, max_leaf_nodes=0, n_estimators=100, random_state=18; total time=   0.0s\n",
      "[CV] END init=zero, max_features=log2, max_leaf_nodes=0, n_estimators=100, random_state=18; total time=   0.0s\n",
      "[CV] END init=zero, max_features=log2, max_leaf_nodes=0, n_estimators=100, random_state=18; total time=   0.0s\n",
      "[CV] END init=zero, max_features=log2, max_leaf_nodes=0, n_estimators=200, random_state=18; total time=   0.0s\n",
      "[CV] END init=zero, max_features=log2, max_leaf_nodes=0, n_estimators=200, random_state=18; total time=   0.0s\n",
      "[CV] END init=zero, max_features=log2, max_leaf_nodes=0, n_estimators=200, random_state=18; total time=   0.0s\n",
      "[CV] END init=zero, max_features=log2, max_leaf_nodes=0, n_estimators=200, random_state=18; total time=   0.0s\n",
      "[CV] END init=zero, max_features=log2, max_leaf_nodes=0, n_estimators=200, random_state=18; total time=   0.0s\n",
      "[CV] END init=zero, max_features=log2, max_leaf_nodes=0, n_estimators=500, random_state=18; total time=   0.0s\n",
      "[CV] END init=zero, max_features=log2, max_leaf_nodes=0, n_estimators=500, random_state=18; total time=   0.0s\n",
      "[CV] END init=zero, max_features=log2, max_leaf_nodes=0, n_estimators=500, random_state=18; total time=   0.0s\n",
      "[CV] END init=zero, max_features=log2, max_leaf_nodes=0, n_estimators=500, random_state=18; total time=   0.0s\n",
      "[CV] END init=zero, max_features=log2, max_leaf_nodes=0, n_estimators=500, random_state=18; total time=   0.0s\n",
      "[CV] END init=zero, max_features=log2, max_leaf_nodes=5, n_estimators=100, random_state=18; total time=   0.1s\n",
      "[CV] END init=zero, max_features=log2, max_leaf_nodes=5, n_estimators=100, random_state=18; total time=   0.2s\n",
      "[CV] END init=zero, max_features=log2, max_leaf_nodes=5, n_estimators=100, random_state=18; total time=   0.1s\n",
      "[CV] END init=zero, max_features=log2, max_leaf_nodes=5, n_estimators=100, random_state=18; total time=   0.1s\n",
      "[CV] END init=zero, max_features=log2, max_leaf_nodes=5, n_estimators=100, random_state=18; total time=   0.2s\n",
      "[CV] END init=zero, max_features=log2, max_leaf_nodes=5, n_estimators=200, random_state=18; total time=   0.4s\n",
      "[CV] END init=zero, max_features=log2, max_leaf_nodes=5, n_estimators=200, random_state=18; total time=   0.3s\n",
      "[CV] END init=zero, max_features=log2, max_leaf_nodes=5, n_estimators=200, random_state=18; total time=   0.3s\n",
      "[CV] END init=zero, max_features=log2, max_leaf_nodes=5, n_estimators=200, random_state=18; total time=   0.2s\n",
      "[CV] END init=zero, max_features=log2, max_leaf_nodes=5, n_estimators=200, random_state=18; total time=   0.2s\n",
      "[CV] END init=zero, max_features=log2, max_leaf_nodes=5, n_estimators=500, random_state=18; total time=   0.5s\n",
      "[CV] END init=zero, max_features=log2, max_leaf_nodes=5, n_estimators=500, random_state=18; total time=   0.5s\n",
      "[CV] END init=zero, max_features=log2, max_leaf_nodes=5, n_estimators=500, random_state=18; total time=   0.5s\n",
      "[CV] END init=zero, max_features=log2, max_leaf_nodes=5, n_estimators=500, random_state=18; total time=   0.5s\n",
      "[CV] END init=zero, max_features=log2, max_leaf_nodes=5, n_estimators=500, random_state=18; total time=   0.5s\n",
      "[CV] END init=zero, max_features=log2, max_leaf_nodes=10, n_estimators=100, random_state=18; total time=   0.0s\n",
      "[CV] END init=zero, max_features=log2, max_leaf_nodes=10, n_estimators=100, random_state=18; total time=   0.0s\n",
      "[CV] END init=zero, max_features=log2, max_leaf_nodes=10, n_estimators=100, random_state=18; total time=   0.0s\n",
      "[CV] END init=zero, max_features=log2, max_leaf_nodes=10, n_estimators=100, random_state=18; total time=   0.0s\n",
      "[CV] END init=zero, max_features=log2, max_leaf_nodes=10, n_estimators=100, random_state=18; total time=   0.1s\n",
      "[CV] END init=zero, max_features=log2, max_leaf_nodes=10, n_estimators=200, random_state=18; total time=   0.2s\n",
      "[CV] END init=zero, max_features=log2, max_leaf_nodes=10, n_estimators=200, random_state=18; total time=   0.3s\n",
      "[CV] END init=zero, max_features=log2, max_leaf_nodes=10, n_estimators=200, random_state=18; total time=   0.3s\n",
      "[CV] END init=zero, max_features=log2, max_leaf_nodes=10, n_estimators=200, random_state=18; total time=   0.2s\n",
      "[CV] END init=zero, max_features=log2, max_leaf_nodes=10, n_estimators=200, random_state=18; total time=   0.2s\n",
      "[CV] END init=zero, max_features=log2, max_leaf_nodes=10, n_estimators=500, random_state=18; total time=   0.7s\n",
      "[CV] END init=zero, max_features=log2, max_leaf_nodes=10, n_estimators=500, random_state=18; total time=   0.7s\n",
      "[CV] END init=zero, max_features=log2, max_leaf_nodes=10, n_estimators=500, random_state=18; total time=   0.8s\n",
      "[CV] END init=zero, max_features=log2, max_leaf_nodes=10, n_estimators=500, random_state=18; total time=   0.8s\n",
      "[CV] END init=zero, max_features=log2, max_leaf_nodes=10, n_estimators=500, random_state=18; total time=   0.7s\n",
      "[CV] END init=zero, max_features=log2, max_leaf_nodes=15, n_estimators=100, random_state=18; total time=   0.0s\n",
      "[CV] END init=zero, max_features=log2, max_leaf_nodes=15, n_estimators=100, random_state=18; total time=   0.1s\n",
      "[CV] END init=zero, max_features=log2, max_leaf_nodes=15, n_estimators=100, random_state=18; total time=   0.1s\n",
      "[CV] END init=zero, max_features=log2, max_leaf_nodes=15, n_estimators=100, random_state=18; total time=   0.1s\n",
      "[CV] END init=zero, max_features=log2, max_leaf_nodes=15, n_estimators=100, random_state=18; total time=   0.0s\n",
      "[CV] END init=zero, max_features=log2, max_leaf_nodes=15, n_estimators=200, random_state=18; total time=   0.2s\n",
      "[CV] END init=zero, max_features=log2, max_leaf_nodes=15, n_estimators=200, random_state=18; total time=   0.2s\n",
      "[CV] END init=zero, max_features=log2, max_leaf_nodes=15, n_estimators=200, random_state=18; total time=   0.3s\n",
      "[CV] END init=zero, max_features=log2, max_leaf_nodes=15, n_estimators=200, random_state=18; total time=   0.2s\n",
      "[CV] END init=zero, max_features=log2, max_leaf_nodes=15, n_estimators=200, random_state=18; total time=   0.2s\n",
      "[CV] END init=zero, max_features=log2, max_leaf_nodes=15, n_estimators=500, random_state=18; total time=   0.6s\n",
      "[CV] END init=zero, max_features=log2, max_leaf_nodes=15, n_estimators=500, random_state=18; total time=   0.6s\n",
      "[CV] END init=zero, max_features=log2, max_leaf_nodes=15, n_estimators=500, random_state=18; total time=   0.6s\n",
      "[CV] END init=zero, max_features=log2, max_leaf_nodes=15, n_estimators=500, random_state=18; total time=   0.6s\n",
      "[CV] END init=zero, max_features=log2, max_leaf_nodes=15, n_estimators=500, random_state=18; total time=   0.6s\n"
     ]
    },
    {
     "name": "stderr",
     "output_type": "stream",
     "text": [
      "C:\\Users\\Lucky Girish\\anaconda3\\lib\\site-packages\\sklearn\\model_selection\\_validation.py:372: FitFailedWarning: \n",
      "225 fits failed out of a total of 360.\n",
      "The score on these train-test partitions for these parameters will be set to nan.\n",
      "If these failures are not expected, you can try to debug them by setting error_score='raise'.\n",
      "\n",
      "Below are more details about the failures:\n",
      "--------------------------------------------------------------------------------\n",
      "180 fits failed with the following error:\n",
      "Traceback (most recent call last):\n",
      "  File \"C:\\Users\\Lucky Girish\\anaconda3\\lib\\site-packages\\sklearn\\model_selection\\_validation.py\", line 681, in _fit_and_score\n",
      "    estimator.fit(X_train, y_train, **fit_params)\n",
      "  File \"C:\\Users\\Lucky Girish\\anaconda3\\lib\\site-packages\\sklearn\\ensemble\\_gb.py\", line 525, in fit\n",
      "    self._check_params()\n",
      "  File \"C:\\Users\\Lucky Girish\\anaconda3\\lib\\site-packages\\sklearn\\ensemble\\_gb.py\", line 324, in _check_params\n",
      "    raise ValueError(\n",
      "ValueError: The init parameter must be an estimator or 'zero'. Got init=estimator\n",
      "\n",
      "--------------------------------------------------------------------------------\n",
      "45 fits failed with the following error:\n",
      "Traceback (most recent call last):\n",
      "  File \"C:\\Users\\Lucky Girish\\anaconda3\\lib\\site-packages\\sklearn\\model_selection\\_validation.py\", line 681, in _fit_and_score\n",
      "    estimator.fit(X_train, y_train, **fit_params)\n",
      "  File \"C:\\Users\\Lucky Girish\\anaconda3\\lib\\site-packages\\sklearn\\ensemble\\_gb.py\", line 586, in fit\n",
      "    n_stages = self._fit_stages(\n",
      "  File \"C:\\Users\\Lucky Girish\\anaconda3\\lib\\site-packages\\sklearn\\ensemble\\_gb.py\", line 663, in _fit_stages\n",
      "    raw_predictions = self._fit_stage(\n",
      "  File \"C:\\Users\\Lucky Girish\\anaconda3\\lib\\site-packages\\sklearn\\ensemble\\_gb.py\", line 246, in _fit_stage\n",
      "    tree.fit(X, residual, sample_weight=sample_weight, check_input=False)\n",
      "  File \"C:\\Users\\Lucky Girish\\anaconda3\\lib\\site-packages\\sklearn\\tree\\_classes.py\", line 1315, in fit\n",
      "    super().fit(\n",
      "  File \"C:\\Users\\Lucky Girish\\anaconda3\\lib\\site-packages\\sklearn\\tree\\_classes.py\", line 314, in fit\n",
      "    raise ValueError(\n",
      "ValueError: max_leaf_nodes 0 must be either None or larger than 1\n",
      "\n",
      "  warnings.warn(some_fits_failed_message, FitFailedWarning)\n",
      "C:\\Users\\Lucky Girish\\anaconda3\\lib\\site-packages\\sklearn\\model_selection\\_search.py:969: UserWarning: One or more of the test scores are non-finite: [       nan        nan        nan        nan        nan        nan\n",
      "        nan        nan        nan        nan        nan        nan\n",
      "        nan        nan        nan        nan        nan        nan\n",
      "        nan        nan        nan        nan        nan        nan\n",
      "        nan        nan        nan        nan        nan        nan\n",
      "        nan        nan        nan        nan        nan        nan\n",
      "        nan        nan        nan 0.88031812 0.87697787 0.8744917\n",
      " 0.88612725 0.87865145 0.88529391 0.88612725 0.87865145 0.88529391\n",
      "        nan        nan        nan 0.86533541 0.86285615 0.86369986\n",
      " 0.86782849 0.87283541 0.87283887 0.86782849 0.87283541 0.87283887\n",
      "        nan        nan        nan 0.86533541 0.86285615 0.86369986\n",
      " 0.86782849 0.87283541 0.87283887 0.86782849 0.87283541 0.87283887]\n",
      "  warnings.warn(\n"
     ]
    },
    {
     "name": "stdout",
     "output_type": "stream",
     "text": [
      "score:  0.8861272475795297\n",
      "best estimators: GradientBoostingClassifier(init='zero', max_features='auto', max_leaf_nodes=10,\n",
      "                           random_state=18)\n",
      "best parameters: {'init': 'zero', 'max_features': 'auto', 'max_leaf_nodes': 10, 'n_estimators': 100, 'random_state': 18}\n"
     ]
    }
   ],
   "source": [
    "#Tuning the model\n",
    "par={'n_estimators':[100,200,500],'random_state':[18],'init':['estimator','zero']\n",
    "    ,'max_features':['auto','sqrt','log2'],'max_leaf_nodes':range(0,20,5)}\n",
    "grid=GridSearchCV(gc,param_grid=par,cv=5,verbose=2)\n",
    "grid.fit(x_train,y_train)\n",
    "print('score: ',grid.best_score_)\n",
    "print('best estimators:',grid.best_estimator_)\n",
    "print('best parameters:',grid.best_params_)\n"
   ]
  },
  {
   "cell_type": "code",
   "execution_count": 84,
   "metadata": {
    "scrolled": true
   },
   "outputs": [
    {
     "name": "stdout",
     "output_type": "stream",
     "text": [
      "Metrics of GradientBoostingClassifier:\n",
      "Score: 0.9136212624584718\n",
      "Confusion Matrix: [[133  17]\n",
      " [  9 142]]\n",
      "Classification Report:               precision    recall  f1-score   support\n",
      "\n",
      "           0       0.94      0.89      0.91       150\n",
      "           1       0.89      0.94      0.92       151\n",
      "\n",
      "    accuracy                           0.91       301\n",
      "   macro avg       0.91      0.91      0.91       301\n",
      "weighted avg       0.91      0.91      0.91       301\n",
      "\n"
     ]
    }
   ],
   "source": [
    "gc=GradientBoostingClassifier(init='zero', max_features='auto', max_leaf_nodes=10,n_estimators=100,\n",
    "                           random_state=832)\n",
    "gc.fit(x_train,y_train)\n",
    "predr=gc.predict(x_test)\n",
    "print('Metrics of GradientBoostingClassifier:')\n",
    "print('Score:',accuracy_score(y_test,predr))\n",
    "print('Confusion Matrix:',confusion_matrix(y_test,predr))\n",
    "print('Classification Report:',classification_report(y_test,predr))"
   ]
  },
  {
   "cell_type": "code",
   "execution_count": 94,
   "metadata": {
    "scrolled": false
   },
   "outputs": [
    {
     "data": {
      "image/png": "[encoded data removed]",
      "text/plain": [
       "<Figure size 432x288 with 1 Axes>"
      ]
     },
     "metadata": {
      "needs_background": "light"
     },
     "output_type": "display_data"
    },
    {
     "name": "stdout",
     "output_type": "stream",
     "text": [
      "Score: 0.9135320088300221\n"
     ]
    }
   ],
   "source": [
    "#Auc Roc curve\n",
    "\n",
    "from sklearn.metrics import roc_auc_score\n",
    "#Predicting the probability of having 0 in the x-test\n",
    "y_pred_prob=gc.predict_proba(x_test)[:,1]\n",
    "y_pred_prob\n",
    "\n",
    "#Visualising\n",
    "from sklearn.metrics import roc_curve\n",
    "fpr,tpr,thresholds=roc_curve(y_test,y_pred_prob)\n",
    "\n",
    "plt.plot([0,1],[0,1],'k--')\n",
    "plt.plot(fpr,tpr,label='KNeighborsClassifier')\n",
    "plt.xlabel('False Positive Rate')\n",
    "plt.ylabel('True Positive Rate')\n",
    "plt.show()\n",
    "auc_score=roc_auc_score(y_test,gc.predict(x_test))\n",
    "print('Score:',auc_score)"
   ]
  },
  {
   "cell_type": "code",
   "execution_count": 95,
   "metadata": {
    "scrolled": true
   },
   "outputs": [
    {
     "data": {
      "text/plain": [
       "['Auto_Insurance_Fraud.csv']"
      ]
     },
     "execution_count": 95,
     "metadata": {},
     "output_type": "execute_result"
    }
   ],
   "source": [
    "import joblib\n",
    "joblib.dump(gc,'Auto_Insurance_Fraud.csv')"
   ]
  },
  {
   "cell_type": "code",
   "execution_count": null,
   "metadata": {},
   "outputs": [],
   "source": []
  }
 ],
 "metadata": {
  "kernelspec": {
   "display_name": "Python 3",
   "language": "python",
   "name": "python3"
  },
  "language_info": {
   "codemirror_mode": {
    "name": "ipython",
    "version": 3
   },
   "file_extension": ".py",
   "mimetype": "text/x-python",
   "name": "python",
   "nbconvert_exporter": "python",
   "pygments_lexer": "ipython3",
   "version": "3.8.3"
  }
 },
 "nbformat": 4,
 "nbformat_minor": 4
}
